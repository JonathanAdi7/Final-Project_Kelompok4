{
 "cells": [
  {
   "cell_type": "markdown",
   "source": [
    "# FINAL PROJECT"
   ],
   "metadata": {}
  },
  {
   "cell_type": "markdown",
   "source": [
    "## Introduction"
   ],
   "metadata": {}
  },
  {
   "cell_type": "markdown",
   "source": [
    "## Import Libraries"
   ],
   "metadata": {}
  },
  {
   "cell_type": "markdown",
   "source": [
    "Install dan import libraries yang digunakan."
   ],
   "metadata": {}
  },
  {
   "cell_type": "code",
   "execution_count": 1,
   "source": [
    "import numpy as np\r\n",
    "import pandas as pd\r\n",
    "import seaborn as sns\r\n",
    "import scipy.stats\r\n",
    "\r\n",
    "%matplotlib inline\r\n",
    "\r\n",
    "from sklearn.model_selection import train_test_split\r\n",
    "from sklearn.linear_model import LinearRegression\r\n",
    "from sklearn.preprocessing import OneHotEncoder, LabelEncoder"
   ],
   "outputs": [],
   "metadata": {}
  },
  {
   "cell_type": "markdown",
   "source": [
    "## Data Loading"
   ],
   "metadata": {}
  },
  {
   "cell_type": "code",
   "execution_count": 75,
   "source": [
    "data = pd.read_csv('E:\\Cool Yeah\\Hacktiv8\\Final-Project_Kelompok4\\Data\\\\rideshare_kaggle.csv')"
   ],
   "outputs": [],
   "metadata": {
    "scrolled": false
   }
  },
  {
   "cell_type": "markdown",
   "source": [
    "Memanggil bagian kepala data."
   ],
   "metadata": {}
  },
  {
   "cell_type": "code",
   "execution_count": 3,
   "source": [
    "data.head()"
   ],
   "outputs": [
    {
     "output_type": "execute_result",
     "data": {
      "text/html": [
       "<div>\n",
       "<style scoped>\n",
       "    .dataframe tbody tr th:only-of-type {\n",
       "        vertical-align: middle;\n",
       "    }\n",
       "\n",
       "    .dataframe tbody tr th {\n",
       "        vertical-align: top;\n",
       "    }\n",
       "\n",
       "    .dataframe thead th {\n",
       "        text-align: right;\n",
       "    }\n",
       "</style>\n",
       "<table border=\"1\" class=\"dataframe\">\n",
       "  <thead>\n",
       "    <tr style=\"text-align: right;\">\n",
       "      <th></th>\n",
       "      <th>id</th>\n",
       "      <th>timestamp</th>\n",
       "      <th>hour</th>\n",
       "      <th>day</th>\n",
       "      <th>month</th>\n",
       "      <th>datetime</th>\n",
       "      <th>timezone</th>\n",
       "      <th>source</th>\n",
       "      <th>destination</th>\n",
       "      <th>cab_type</th>\n",
       "      <th>...</th>\n",
       "      <th>precipIntensityMax</th>\n",
       "      <th>uvIndexTime</th>\n",
       "      <th>temperatureMin</th>\n",
       "      <th>temperatureMinTime</th>\n",
       "      <th>temperatureMax</th>\n",
       "      <th>temperatureMaxTime</th>\n",
       "      <th>apparentTemperatureMin</th>\n",
       "      <th>apparentTemperatureMinTime</th>\n",
       "      <th>apparentTemperatureMax</th>\n",
       "      <th>apparentTemperatureMaxTime</th>\n",
       "    </tr>\n",
       "  </thead>\n",
       "  <tbody>\n",
       "    <tr>\n",
       "      <th>0</th>\n",
       "      <td>424553bb-7174-41ea-aeb4-fe06d4f4b9d7</td>\n",
       "      <td>1.544953e+09</td>\n",
       "      <td>9</td>\n",
       "      <td>16</td>\n",
       "      <td>12</td>\n",
       "      <td>2018-12-16 09:30:07</td>\n",
       "      <td>America/New_York</td>\n",
       "      <td>Haymarket Square</td>\n",
       "      <td>North Station</td>\n",
       "      <td>Lyft</td>\n",
       "      <td>...</td>\n",
       "      <td>0.1276</td>\n",
       "      <td>1544979600</td>\n",
       "      <td>39.89</td>\n",
       "      <td>1545012000</td>\n",
       "      <td>43.68</td>\n",
       "      <td>1544968800</td>\n",
       "      <td>33.73</td>\n",
       "      <td>1545012000</td>\n",
       "      <td>38.07</td>\n",
       "      <td>1544958000</td>\n",
       "    </tr>\n",
       "    <tr>\n",
       "      <th>1</th>\n",
       "      <td>4bd23055-6827-41c6-b23b-3c491f24e74d</td>\n",
       "      <td>1.543284e+09</td>\n",
       "      <td>2</td>\n",
       "      <td>27</td>\n",
       "      <td>11</td>\n",
       "      <td>2018-11-27 02:00:23</td>\n",
       "      <td>America/New_York</td>\n",
       "      <td>Haymarket Square</td>\n",
       "      <td>North Station</td>\n",
       "      <td>Lyft</td>\n",
       "      <td>...</td>\n",
       "      <td>0.1300</td>\n",
       "      <td>1543251600</td>\n",
       "      <td>40.49</td>\n",
       "      <td>1543233600</td>\n",
       "      <td>47.30</td>\n",
       "      <td>1543251600</td>\n",
       "      <td>36.20</td>\n",
       "      <td>1543291200</td>\n",
       "      <td>43.92</td>\n",
       "      <td>1543251600</td>\n",
       "    </tr>\n",
       "    <tr>\n",
       "      <th>2</th>\n",
       "      <td>981a3613-77af-4620-a42a-0c0866077d1e</td>\n",
       "      <td>1.543367e+09</td>\n",
       "      <td>1</td>\n",
       "      <td>28</td>\n",
       "      <td>11</td>\n",
       "      <td>2018-11-28 01:00:22</td>\n",
       "      <td>America/New_York</td>\n",
       "      <td>Haymarket Square</td>\n",
       "      <td>North Station</td>\n",
       "      <td>Lyft</td>\n",
       "      <td>...</td>\n",
       "      <td>0.1064</td>\n",
       "      <td>1543338000</td>\n",
       "      <td>35.36</td>\n",
       "      <td>1543377600</td>\n",
       "      <td>47.55</td>\n",
       "      <td>1543320000</td>\n",
       "      <td>31.04</td>\n",
       "      <td>1543377600</td>\n",
       "      <td>44.12</td>\n",
       "      <td>1543320000</td>\n",
       "    </tr>\n",
       "    <tr>\n",
       "      <th>3</th>\n",
       "      <td>c2d88af2-d278-4bfd-a8d0-29ca77cc5512</td>\n",
       "      <td>1.543554e+09</td>\n",
       "      <td>4</td>\n",
       "      <td>30</td>\n",
       "      <td>11</td>\n",
       "      <td>2018-11-30 04:53:02</td>\n",
       "      <td>America/New_York</td>\n",
       "      <td>Haymarket Square</td>\n",
       "      <td>North Station</td>\n",
       "      <td>Lyft</td>\n",
       "      <td>...</td>\n",
       "      <td>0.0000</td>\n",
       "      <td>1543507200</td>\n",
       "      <td>34.67</td>\n",
       "      <td>1543550400</td>\n",
       "      <td>45.03</td>\n",
       "      <td>1543510800</td>\n",
       "      <td>30.30</td>\n",
       "      <td>1543550400</td>\n",
       "      <td>38.53</td>\n",
       "      <td>1543510800</td>\n",
       "    </tr>\n",
       "    <tr>\n",
       "      <th>4</th>\n",
       "      <td>e0126e1f-8ca9-4f2e-82b3-50505a09db9a</td>\n",
       "      <td>1.543463e+09</td>\n",
       "      <td>3</td>\n",
       "      <td>29</td>\n",
       "      <td>11</td>\n",
       "      <td>2018-11-29 03:49:20</td>\n",
       "      <td>America/New_York</td>\n",
       "      <td>Haymarket Square</td>\n",
       "      <td>North Station</td>\n",
       "      <td>Lyft</td>\n",
       "      <td>...</td>\n",
       "      <td>0.0001</td>\n",
       "      <td>1543420800</td>\n",
       "      <td>33.10</td>\n",
       "      <td>1543402800</td>\n",
       "      <td>42.18</td>\n",
       "      <td>1543420800</td>\n",
       "      <td>29.11</td>\n",
       "      <td>1543392000</td>\n",
       "      <td>35.75</td>\n",
       "      <td>1543420800</td>\n",
       "    </tr>\n",
       "  </tbody>\n",
       "</table>\n",
       "<p>5 rows × 57 columns</p>\n",
       "</div>"
      ],
      "text/plain": [
       "                                     id     timestamp  hour  day  month  \\\n",
       "0  424553bb-7174-41ea-aeb4-fe06d4f4b9d7  1.544953e+09     9   16     12   \n",
       "1  4bd23055-6827-41c6-b23b-3c491f24e74d  1.543284e+09     2   27     11   \n",
       "2  981a3613-77af-4620-a42a-0c0866077d1e  1.543367e+09     1   28     11   \n",
       "3  c2d88af2-d278-4bfd-a8d0-29ca77cc5512  1.543554e+09     4   30     11   \n",
       "4  e0126e1f-8ca9-4f2e-82b3-50505a09db9a  1.543463e+09     3   29     11   \n",
       "\n",
       "              datetime          timezone            source    destination  \\\n",
       "0  2018-12-16 09:30:07  America/New_York  Haymarket Square  North Station   \n",
       "1  2018-11-27 02:00:23  America/New_York  Haymarket Square  North Station   \n",
       "2  2018-11-28 01:00:22  America/New_York  Haymarket Square  North Station   \n",
       "3  2018-11-30 04:53:02  America/New_York  Haymarket Square  North Station   \n",
       "4  2018-11-29 03:49:20  America/New_York  Haymarket Square  North Station   \n",
       "\n",
       "  cab_type  ... precipIntensityMax uvIndexTime  temperatureMin  \\\n",
       "0     Lyft  ...             0.1276  1544979600           39.89   \n",
       "1     Lyft  ...             0.1300  1543251600           40.49   \n",
       "2     Lyft  ...             0.1064  1543338000           35.36   \n",
       "3     Lyft  ...             0.0000  1543507200           34.67   \n",
       "4     Lyft  ...             0.0001  1543420800           33.10   \n",
       "\n",
       "   temperatureMinTime  temperatureMax  temperatureMaxTime  \\\n",
       "0          1545012000           43.68          1544968800   \n",
       "1          1543233600           47.30          1543251600   \n",
       "2          1543377600           47.55          1543320000   \n",
       "3          1543550400           45.03          1543510800   \n",
       "4          1543402800           42.18          1543420800   \n",
       "\n",
       "   apparentTemperatureMin  apparentTemperatureMinTime  apparentTemperatureMax  \\\n",
       "0                   33.73                  1545012000                   38.07   \n",
       "1                   36.20                  1543291200                   43.92   \n",
       "2                   31.04                  1543377600                   44.12   \n",
       "3                   30.30                  1543550400                   38.53   \n",
       "4                   29.11                  1543392000                   35.75   \n",
       "\n",
       "  apparentTemperatureMaxTime  \n",
       "0                 1544958000  \n",
       "1                 1543251600  \n",
       "2                 1543320000  \n",
       "3                 1543510800  \n",
       "4                 1543420800  \n",
       "\n",
       "[5 rows x 57 columns]"
      ]
     },
     "metadata": {},
     "execution_count": 3
    }
   ],
   "metadata": {}
  },
  {
   "cell_type": "markdown",
   "source": [
    "Memanggil bagian ekor data."
   ],
   "metadata": {}
  },
  {
   "cell_type": "code",
   "execution_count": 4,
   "source": [
    "data.tail()"
   ],
   "outputs": [
    {
     "output_type": "execute_result",
     "data": {
      "text/html": [
       "<div>\n",
       "<style scoped>\n",
       "    .dataframe tbody tr th:only-of-type {\n",
       "        vertical-align: middle;\n",
       "    }\n",
       "\n",
       "    .dataframe tbody tr th {\n",
       "        vertical-align: top;\n",
       "    }\n",
       "\n",
       "    .dataframe thead th {\n",
       "        text-align: right;\n",
       "    }\n",
       "</style>\n",
       "<table border=\"1\" class=\"dataframe\">\n",
       "  <thead>\n",
       "    <tr style=\"text-align: right;\">\n",
       "      <th></th>\n",
       "      <th>id</th>\n",
       "      <th>timestamp</th>\n",
       "      <th>hour</th>\n",
       "      <th>day</th>\n",
       "      <th>month</th>\n",
       "      <th>datetime</th>\n",
       "      <th>timezone</th>\n",
       "      <th>source</th>\n",
       "      <th>destination</th>\n",
       "      <th>cab_type</th>\n",
       "      <th>...</th>\n",
       "      <th>precipIntensityMax</th>\n",
       "      <th>uvIndexTime</th>\n",
       "      <th>temperatureMin</th>\n",
       "      <th>temperatureMinTime</th>\n",
       "      <th>temperatureMax</th>\n",
       "      <th>temperatureMaxTime</th>\n",
       "      <th>apparentTemperatureMin</th>\n",
       "      <th>apparentTemperatureMinTime</th>\n",
       "      <th>apparentTemperatureMax</th>\n",
       "      <th>apparentTemperatureMaxTime</th>\n",
       "    </tr>\n",
       "  </thead>\n",
       "  <tbody>\n",
       "    <tr>\n",
       "      <th>693066</th>\n",
       "      <td>616d3611-1820-450a-9845-a9ff304a4842</td>\n",
       "      <td>1.543708e+09</td>\n",
       "      <td>23</td>\n",
       "      <td>1</td>\n",
       "      <td>12</td>\n",
       "      <td>2018-12-01 23:53:05</td>\n",
       "      <td>America/New_York</td>\n",
       "      <td>West End</td>\n",
       "      <td>North End</td>\n",
       "      <td>Uber</td>\n",
       "      <td>...</td>\n",
       "      <td>0.0</td>\n",
       "      <td>1543683600</td>\n",
       "      <td>31.42</td>\n",
       "      <td>1543658400</td>\n",
       "      <td>44.76</td>\n",
       "      <td>1543690800</td>\n",
       "      <td>27.77</td>\n",
       "      <td>1543658400</td>\n",
       "      <td>44.09</td>\n",
       "      <td>1543690800</td>\n",
       "    </tr>\n",
       "    <tr>\n",
       "      <th>693067</th>\n",
       "      <td>633a3fc3-1f86-4b9e-9d48-2b7132112341</td>\n",
       "      <td>1.543708e+09</td>\n",
       "      <td>23</td>\n",
       "      <td>1</td>\n",
       "      <td>12</td>\n",
       "      <td>2018-12-01 23:53:05</td>\n",
       "      <td>America/New_York</td>\n",
       "      <td>West End</td>\n",
       "      <td>North End</td>\n",
       "      <td>Uber</td>\n",
       "      <td>...</td>\n",
       "      <td>0.0</td>\n",
       "      <td>1543683600</td>\n",
       "      <td>31.42</td>\n",
       "      <td>1543658400</td>\n",
       "      <td>44.76</td>\n",
       "      <td>1543690800</td>\n",
       "      <td>27.77</td>\n",
       "      <td>1543658400</td>\n",
       "      <td>44.09</td>\n",
       "      <td>1543690800</td>\n",
       "    </tr>\n",
       "    <tr>\n",
       "      <th>693068</th>\n",
       "      <td>64d451d0-639f-47a4-9b7c-6fd92fbd264f</td>\n",
       "      <td>1.543708e+09</td>\n",
       "      <td>23</td>\n",
       "      <td>1</td>\n",
       "      <td>12</td>\n",
       "      <td>2018-12-01 23:53:05</td>\n",
       "      <td>America/New_York</td>\n",
       "      <td>West End</td>\n",
       "      <td>North End</td>\n",
       "      <td>Uber</td>\n",
       "      <td>...</td>\n",
       "      <td>0.0</td>\n",
       "      <td>1543683600</td>\n",
       "      <td>31.42</td>\n",
       "      <td>1543658400</td>\n",
       "      <td>44.76</td>\n",
       "      <td>1543690800</td>\n",
       "      <td>27.77</td>\n",
       "      <td>1543658400</td>\n",
       "      <td>44.09</td>\n",
       "      <td>1543690800</td>\n",
       "    </tr>\n",
       "    <tr>\n",
       "      <th>693069</th>\n",
       "      <td>727e5f07-a96b-4ad1-a2c7-9abc3ad55b4e</td>\n",
       "      <td>1.543708e+09</td>\n",
       "      <td>23</td>\n",
       "      <td>1</td>\n",
       "      <td>12</td>\n",
       "      <td>2018-12-01 23:53:05</td>\n",
       "      <td>America/New_York</td>\n",
       "      <td>West End</td>\n",
       "      <td>North End</td>\n",
       "      <td>Uber</td>\n",
       "      <td>...</td>\n",
       "      <td>0.0</td>\n",
       "      <td>1543683600</td>\n",
       "      <td>31.42</td>\n",
       "      <td>1543658400</td>\n",
       "      <td>44.76</td>\n",
       "      <td>1543690800</td>\n",
       "      <td>27.77</td>\n",
       "      <td>1543658400</td>\n",
       "      <td>44.09</td>\n",
       "      <td>1543690800</td>\n",
       "    </tr>\n",
       "    <tr>\n",
       "      <th>693070</th>\n",
       "      <td>e7fdc087-fe86-40a5-a3c3-3b2a8badcbda</td>\n",
       "      <td>1.543708e+09</td>\n",
       "      <td>23</td>\n",
       "      <td>1</td>\n",
       "      <td>12</td>\n",
       "      <td>2018-12-01 23:53:05</td>\n",
       "      <td>America/New_York</td>\n",
       "      <td>West End</td>\n",
       "      <td>North End</td>\n",
       "      <td>Uber</td>\n",
       "      <td>...</td>\n",
       "      <td>0.0</td>\n",
       "      <td>1543683600</td>\n",
       "      <td>31.42</td>\n",
       "      <td>1543658400</td>\n",
       "      <td>44.76</td>\n",
       "      <td>1543690800</td>\n",
       "      <td>27.77</td>\n",
       "      <td>1543658400</td>\n",
       "      <td>44.09</td>\n",
       "      <td>1543690800</td>\n",
       "    </tr>\n",
       "  </tbody>\n",
       "</table>\n",
       "<p>5 rows × 57 columns</p>\n",
       "</div>"
      ],
      "text/plain": [
       "                                          id     timestamp  hour  day  month  \\\n",
       "693066  616d3611-1820-450a-9845-a9ff304a4842  1.543708e+09    23    1     12   \n",
       "693067  633a3fc3-1f86-4b9e-9d48-2b7132112341  1.543708e+09    23    1     12   \n",
       "693068  64d451d0-639f-47a4-9b7c-6fd92fbd264f  1.543708e+09    23    1     12   \n",
       "693069  727e5f07-a96b-4ad1-a2c7-9abc3ad55b4e  1.543708e+09    23    1     12   \n",
       "693070  e7fdc087-fe86-40a5-a3c3-3b2a8badcbda  1.543708e+09    23    1     12   \n",
       "\n",
       "                   datetime          timezone    source destination cab_type  \\\n",
       "693066  2018-12-01 23:53:05  America/New_York  West End   North End     Uber   \n",
       "693067  2018-12-01 23:53:05  America/New_York  West End   North End     Uber   \n",
       "693068  2018-12-01 23:53:05  America/New_York  West End   North End     Uber   \n",
       "693069  2018-12-01 23:53:05  America/New_York  West End   North End     Uber   \n",
       "693070  2018-12-01 23:53:05  America/New_York  West End   North End     Uber   \n",
       "\n",
       "        ... precipIntensityMax uvIndexTime  temperatureMin  \\\n",
       "693066  ...                0.0  1543683600           31.42   \n",
       "693067  ...                0.0  1543683600           31.42   \n",
       "693068  ...                0.0  1543683600           31.42   \n",
       "693069  ...                0.0  1543683600           31.42   \n",
       "693070  ...                0.0  1543683600           31.42   \n",
       "\n",
       "        temperatureMinTime  temperatureMax  temperatureMaxTime  \\\n",
       "693066          1543658400           44.76          1543690800   \n",
       "693067          1543658400           44.76          1543690800   \n",
       "693068          1543658400           44.76          1543690800   \n",
       "693069          1543658400           44.76          1543690800   \n",
       "693070          1543658400           44.76          1543690800   \n",
       "\n",
       "        apparentTemperatureMin  apparentTemperatureMinTime  \\\n",
       "693066                   27.77                  1543658400   \n",
       "693067                   27.77                  1543658400   \n",
       "693068                   27.77                  1543658400   \n",
       "693069                   27.77                  1543658400   \n",
       "693070                   27.77                  1543658400   \n",
       "\n",
       "        apparentTemperatureMax apparentTemperatureMaxTime  \n",
       "693066                   44.09                 1543690800  \n",
       "693067                   44.09                 1543690800  \n",
       "693068                   44.09                 1543690800  \n",
       "693069                   44.09                 1543690800  \n",
       "693070                   44.09                 1543690800  \n",
       "\n",
       "[5 rows x 57 columns]"
      ]
     },
     "metadata": {},
     "execution_count": 4
    }
   ],
   "metadata": {
    "scrolled": false
   }
  },
  {
   "cell_type": "markdown",
   "source": [
    "Mengecek dimensi data."
   ],
   "metadata": {}
  },
  {
   "cell_type": "code",
   "execution_count": 5,
   "source": [
    "data.shape"
   ],
   "outputs": [
    {
     "output_type": "execute_result",
     "data": {
      "text/plain": [
       "(693071, 57)"
      ]
     },
     "metadata": {},
     "execution_count": 5
    }
   ],
   "metadata": {}
  },
  {
   "cell_type": "markdown",
   "source": [
    "Mengecek info dataset."
   ],
   "metadata": {}
  },
  {
   "cell_type": "code",
   "execution_count": 6,
   "source": [
    "data.info()"
   ],
   "outputs": [
    {
     "output_type": "stream",
     "name": "stdout",
     "text": [
      "<class 'pandas.core.frame.DataFrame'>\n",
      "RangeIndex: 693071 entries, 0 to 693070\n",
      "Data columns (total 57 columns):\n",
      " #   Column                       Non-Null Count   Dtype  \n",
      "---  ------                       --------------   -----  \n",
      " 0   id                           693071 non-null  object \n",
      " 1   timestamp                    693071 non-null  float64\n",
      " 2   hour                         693071 non-null  int64  \n",
      " 3   day                          693071 non-null  int64  \n",
      " 4   month                        693071 non-null  int64  \n",
      " 5   datetime                     693071 non-null  object \n",
      " 6   timezone                     693071 non-null  object \n",
      " 7   source                       693071 non-null  object \n",
      " 8   destination                  693071 non-null  object \n",
      " 9   cab_type                     693071 non-null  object \n",
      " 10  product_id                   693071 non-null  object \n",
      " 11  name                         693071 non-null  object \n",
      " 12  price                        637976 non-null  float64\n",
      " 13  distance                     693071 non-null  float64\n",
      " 14  surge_multiplier             693071 non-null  float64\n",
      " 15  latitude                     693071 non-null  float64\n",
      " 16  longitude                    693071 non-null  float64\n",
      " 17  temperature                  693071 non-null  float64\n",
      " 18  apparentTemperature          693071 non-null  float64\n",
      " 19  short_summary                693071 non-null  object \n",
      " 20  long_summary                 693071 non-null  object \n",
      " 21  precipIntensity              693071 non-null  float64\n",
      " 22  precipProbability            693071 non-null  float64\n",
      " 23  humidity                     693071 non-null  float64\n",
      " 24  windSpeed                    693071 non-null  float64\n",
      " 25  windGust                     693071 non-null  float64\n",
      " 26  windGustTime                 693071 non-null  int64  \n",
      " 27  visibility                   693071 non-null  float64\n",
      " 28  temperatureHigh              693071 non-null  float64\n",
      " 29  temperatureHighTime          693071 non-null  int64  \n",
      " 30  temperatureLow               693071 non-null  float64\n",
      " 31  temperatureLowTime           693071 non-null  int64  \n",
      " 32  apparentTemperatureHigh      693071 non-null  float64\n",
      " 33  apparentTemperatureHighTime  693071 non-null  int64  \n",
      " 34  apparentTemperatureLow       693071 non-null  float64\n",
      " 35  apparentTemperatureLowTime   693071 non-null  int64  \n",
      " 36  icon                         693071 non-null  object \n",
      " 37  dewPoint                     693071 non-null  float64\n",
      " 38  pressure                     693071 non-null  float64\n",
      " 39  windBearing                  693071 non-null  int64  \n",
      " 40  cloudCover                   693071 non-null  float64\n",
      " 41  uvIndex                      693071 non-null  int64  \n",
      " 42  visibility.1                 693071 non-null  float64\n",
      " 43  ozone                        693071 non-null  float64\n",
      " 44  sunriseTime                  693071 non-null  int64  \n",
      " 45  sunsetTime                   693071 non-null  int64  \n",
      " 46  moonPhase                    693071 non-null  float64\n",
      " 47  precipIntensityMax           693071 non-null  float64\n",
      " 48  uvIndexTime                  693071 non-null  int64  \n",
      " 49  temperatureMin               693071 non-null  float64\n",
      " 50  temperatureMinTime           693071 non-null  int64  \n",
      " 51  temperatureMax               693071 non-null  float64\n",
      " 52  temperatureMaxTime           693071 non-null  int64  \n",
      " 53  apparentTemperatureMin       693071 non-null  float64\n",
      " 54  apparentTemperatureMinTime   693071 non-null  int64  \n",
      " 55  apparentTemperatureMax       693071 non-null  float64\n",
      " 56  apparentTemperatureMaxTime   693071 non-null  int64  \n",
      "dtypes: float64(29), int64(17), object(11)\n",
      "memory usage: 301.4+ MB\n"
     ]
    }
   ],
   "metadata": {}
  },
  {
   "cell_type": "markdown",
   "source": [
    "Mengecek tipe data apa saja yg ada pada variabel."
   ],
   "metadata": {}
  },
  {
   "cell_type": "code",
   "execution_count": 7,
   "source": [
    "data.dtypes"
   ],
   "outputs": [
    {
     "output_type": "execute_result",
     "data": {
      "text/plain": [
       "id                              object\n",
       "timestamp                      float64\n",
       "hour                             int64\n",
       "day                              int64\n",
       "month                            int64\n",
       "datetime                        object\n",
       "timezone                        object\n",
       "source                          object\n",
       "destination                     object\n",
       "cab_type                        object\n",
       "product_id                      object\n",
       "name                            object\n",
       "price                          float64\n",
       "distance                       float64\n",
       "surge_multiplier               float64\n",
       "latitude                       float64\n",
       "longitude                      float64\n",
       "temperature                    float64\n",
       "apparentTemperature            float64\n",
       "short_summary                   object\n",
       "long_summary                    object\n",
       "precipIntensity                float64\n",
       "precipProbability              float64\n",
       "humidity                       float64\n",
       "windSpeed                      float64\n",
       "windGust                       float64\n",
       "windGustTime                     int64\n",
       "visibility                     float64\n",
       "temperatureHigh                float64\n",
       "temperatureHighTime              int64\n",
       "temperatureLow                 float64\n",
       "temperatureLowTime               int64\n",
       "apparentTemperatureHigh        float64\n",
       "apparentTemperatureHighTime      int64\n",
       "apparentTemperatureLow         float64\n",
       "apparentTemperatureLowTime       int64\n",
       "icon                            object\n",
       "dewPoint                       float64\n",
       "pressure                       float64\n",
       "windBearing                      int64\n",
       "cloudCover                     float64\n",
       "uvIndex                          int64\n",
       "visibility.1                   float64\n",
       "ozone                          float64\n",
       "sunriseTime                      int64\n",
       "sunsetTime                       int64\n",
       "moonPhase                      float64\n",
       "precipIntensityMax             float64\n",
       "uvIndexTime                      int64\n",
       "temperatureMin                 float64\n",
       "temperatureMinTime               int64\n",
       "temperatureMax                 float64\n",
       "temperatureMaxTime               int64\n",
       "apparentTemperatureMin         float64\n",
       "apparentTemperatureMinTime       int64\n",
       "apparentTemperatureMax         float64\n",
       "apparentTemperatureMaxTime       int64\n",
       "dtype: object"
      ]
     },
     "metadata": {},
     "execution_count": 7
    }
   ],
   "metadata": {}
  },
  {
   "cell_type": "code",
   "execution_count": 8,
   "source": [
    "data.describe()"
   ],
   "outputs": [
    {
     "output_type": "execute_result",
     "data": {
      "text/html": [
       "<div>\n",
       "<style scoped>\n",
       "    .dataframe tbody tr th:only-of-type {\n",
       "        vertical-align: middle;\n",
       "    }\n",
       "\n",
       "    .dataframe tbody tr th {\n",
       "        vertical-align: top;\n",
       "    }\n",
       "\n",
       "    .dataframe thead th {\n",
       "        text-align: right;\n",
       "    }\n",
       "</style>\n",
       "<table border=\"1\" class=\"dataframe\">\n",
       "  <thead>\n",
       "    <tr style=\"text-align: right;\">\n",
       "      <th></th>\n",
       "      <th>timestamp</th>\n",
       "      <th>hour</th>\n",
       "      <th>day</th>\n",
       "      <th>month</th>\n",
       "      <th>price</th>\n",
       "      <th>distance</th>\n",
       "      <th>surge_multiplier</th>\n",
       "      <th>latitude</th>\n",
       "      <th>longitude</th>\n",
       "      <th>temperature</th>\n",
       "      <th>...</th>\n",
       "      <th>precipIntensityMax</th>\n",
       "      <th>uvIndexTime</th>\n",
       "      <th>temperatureMin</th>\n",
       "      <th>temperatureMinTime</th>\n",
       "      <th>temperatureMax</th>\n",
       "      <th>temperatureMaxTime</th>\n",
       "      <th>apparentTemperatureMin</th>\n",
       "      <th>apparentTemperatureMinTime</th>\n",
       "      <th>apparentTemperatureMax</th>\n",
       "      <th>apparentTemperatureMaxTime</th>\n",
       "    </tr>\n",
       "  </thead>\n",
       "  <tbody>\n",
       "    <tr>\n",
       "      <th>count</th>\n",
       "      <td>6.930710e+05</td>\n",
       "      <td>693071.000000</td>\n",
       "      <td>693071.000000</td>\n",
       "      <td>693071.000000</td>\n",
       "      <td>637976.000000</td>\n",
       "      <td>693071.000000</td>\n",
       "      <td>693071.000000</td>\n",
       "      <td>693071.000000</td>\n",
       "      <td>693071.000000</td>\n",
       "      <td>693071.000000</td>\n",
       "      <td>...</td>\n",
       "      <td>693071.000000</td>\n",
       "      <td>6.930710e+05</td>\n",
       "      <td>693071.000000</td>\n",
       "      <td>6.930710e+05</td>\n",
       "      <td>693071.000000</td>\n",
       "      <td>6.930710e+05</td>\n",
       "      <td>693071.000000</td>\n",
       "      <td>6.930710e+05</td>\n",
       "      <td>693071.000000</td>\n",
       "      <td>6.930710e+05</td>\n",
       "    </tr>\n",
       "    <tr>\n",
       "      <th>mean</th>\n",
       "      <td>1.544046e+09</td>\n",
       "      <td>11.619137</td>\n",
       "      <td>17.794365</td>\n",
       "      <td>11.586684</td>\n",
       "      <td>16.545125</td>\n",
       "      <td>2.189430</td>\n",
       "      <td>1.013870</td>\n",
       "      <td>42.338172</td>\n",
       "      <td>-71.066151</td>\n",
       "      <td>39.584388</td>\n",
       "      <td>...</td>\n",
       "      <td>0.037374</td>\n",
       "      <td>1.544044e+09</td>\n",
       "      <td>33.457774</td>\n",
       "      <td>1.544042e+09</td>\n",
       "      <td>45.261313</td>\n",
       "      <td>1.544047e+09</td>\n",
       "      <td>29.731002</td>\n",
       "      <td>1.544048e+09</td>\n",
       "      <td>41.997343</td>\n",
       "      <td>1.544048e+09</td>\n",
       "    </tr>\n",
       "    <tr>\n",
       "      <th>std</th>\n",
       "      <td>6.891925e+05</td>\n",
       "      <td>6.948114</td>\n",
       "      <td>9.982286</td>\n",
       "      <td>0.492429</td>\n",
       "      <td>9.324359</td>\n",
       "      <td>1.138937</td>\n",
       "      <td>0.091641</td>\n",
       "      <td>0.047840</td>\n",
       "      <td>0.020302</td>\n",
       "      <td>6.726084</td>\n",
       "      <td>...</td>\n",
       "      <td>0.055214</td>\n",
       "      <td>6.912028e+05</td>\n",
       "      <td>6.467224</td>\n",
       "      <td>6.901954e+05</td>\n",
       "      <td>5.645046</td>\n",
       "      <td>6.901353e+05</td>\n",
       "      <td>7.110494</td>\n",
       "      <td>6.871862e+05</td>\n",
       "      <td>6.936841</td>\n",
       "      <td>6.910777e+05</td>\n",
       "    </tr>\n",
       "    <tr>\n",
       "      <th>min</th>\n",
       "      <td>1.543204e+09</td>\n",
       "      <td>0.000000</td>\n",
       "      <td>1.000000</td>\n",
       "      <td>11.000000</td>\n",
       "      <td>2.500000</td>\n",
       "      <td>0.020000</td>\n",
       "      <td>1.000000</td>\n",
       "      <td>42.214800</td>\n",
       "      <td>-71.105400</td>\n",
       "      <td>18.910000</td>\n",
       "      <td>...</td>\n",
       "      <td>0.000000</td>\n",
       "      <td>1.543162e+09</td>\n",
       "      <td>15.630000</td>\n",
       "      <td>1.543122e+09</td>\n",
       "      <td>33.510000</td>\n",
       "      <td>1.543154e+09</td>\n",
       "      <td>11.810000</td>\n",
       "      <td>1.543136e+09</td>\n",
       "      <td>28.950000</td>\n",
       "      <td>1.543187e+09</td>\n",
       "    </tr>\n",
       "    <tr>\n",
       "      <th>25%</th>\n",
       "      <td>1.543444e+09</td>\n",
       "      <td>6.000000</td>\n",
       "      <td>13.000000</td>\n",
       "      <td>11.000000</td>\n",
       "      <td>9.000000</td>\n",
       "      <td>1.280000</td>\n",
       "      <td>1.000000</td>\n",
       "      <td>42.350300</td>\n",
       "      <td>-71.081000</td>\n",
       "      <td>36.450000</td>\n",
       "      <td>...</td>\n",
       "      <td>0.000000</td>\n",
       "      <td>1.543421e+09</td>\n",
       "      <td>30.170000</td>\n",
       "      <td>1.543399e+09</td>\n",
       "      <td>42.570000</td>\n",
       "      <td>1.543439e+09</td>\n",
       "      <td>27.760000</td>\n",
       "      <td>1.543399e+09</td>\n",
       "      <td>36.570000</td>\n",
       "      <td>1.543439e+09</td>\n",
       "    </tr>\n",
       "    <tr>\n",
       "      <th>50%</th>\n",
       "      <td>1.543737e+09</td>\n",
       "      <td>12.000000</td>\n",
       "      <td>17.000000</td>\n",
       "      <td>12.000000</td>\n",
       "      <td>13.500000</td>\n",
       "      <td>2.160000</td>\n",
       "      <td>1.000000</td>\n",
       "      <td>42.351900</td>\n",
       "      <td>-71.063100</td>\n",
       "      <td>40.490000</td>\n",
       "      <td>...</td>\n",
       "      <td>0.000400</td>\n",
       "      <td>1.543770e+09</td>\n",
       "      <td>34.240000</td>\n",
       "      <td>1.543727e+09</td>\n",
       "      <td>44.680000</td>\n",
       "      <td>1.543788e+09</td>\n",
       "      <td>30.130000</td>\n",
       "      <td>1.543745e+09</td>\n",
       "      <td>40.950000</td>\n",
       "      <td>1.543788e+09</td>\n",
       "    </tr>\n",
       "    <tr>\n",
       "      <th>75%</th>\n",
       "      <td>1.544828e+09</td>\n",
       "      <td>18.000000</td>\n",
       "      <td>28.000000</td>\n",
       "      <td>12.000000</td>\n",
       "      <td>22.500000</td>\n",
       "      <td>2.920000</td>\n",
       "      <td>1.000000</td>\n",
       "      <td>42.364700</td>\n",
       "      <td>-71.054200</td>\n",
       "      <td>43.580000</td>\n",
       "      <td>...</td>\n",
       "      <td>0.091600</td>\n",
       "      <td>1.544807e+09</td>\n",
       "      <td>38.880000</td>\n",
       "      <td>1.544789e+09</td>\n",
       "      <td>46.910000</td>\n",
       "      <td>1.544814e+09</td>\n",
       "      <td>35.710000</td>\n",
       "      <td>1.544789e+09</td>\n",
       "      <td>44.120000</td>\n",
       "      <td>1.544818e+09</td>\n",
       "    </tr>\n",
       "    <tr>\n",
       "      <th>max</th>\n",
       "      <td>1.545161e+09</td>\n",
       "      <td>23.000000</td>\n",
       "      <td>30.000000</td>\n",
       "      <td>12.000000</td>\n",
       "      <td>97.500000</td>\n",
       "      <td>7.860000</td>\n",
       "      <td>3.000000</td>\n",
       "      <td>42.366100</td>\n",
       "      <td>-71.033000</td>\n",
       "      <td>57.220000</td>\n",
       "      <td>...</td>\n",
       "      <td>0.145900</td>\n",
       "      <td>1.545152e+09</td>\n",
       "      <td>43.100000</td>\n",
       "      <td>1.545192e+09</td>\n",
       "      <td>57.870000</td>\n",
       "      <td>1.545109e+09</td>\n",
       "      <td>40.050000</td>\n",
       "      <td>1.545134e+09</td>\n",
       "      <td>57.200000</td>\n",
       "      <td>1.545109e+09</td>\n",
       "    </tr>\n",
       "  </tbody>\n",
       "</table>\n",
       "<p>8 rows × 46 columns</p>\n",
       "</div>"
      ],
      "text/plain": [
       "          timestamp           hour            day          month  \\\n",
       "count  6.930710e+05  693071.000000  693071.000000  693071.000000   \n",
       "mean   1.544046e+09      11.619137      17.794365      11.586684   \n",
       "std    6.891925e+05       6.948114       9.982286       0.492429   \n",
       "min    1.543204e+09       0.000000       1.000000      11.000000   \n",
       "25%    1.543444e+09       6.000000      13.000000      11.000000   \n",
       "50%    1.543737e+09      12.000000      17.000000      12.000000   \n",
       "75%    1.544828e+09      18.000000      28.000000      12.000000   \n",
       "max    1.545161e+09      23.000000      30.000000      12.000000   \n",
       "\n",
       "               price       distance  surge_multiplier       latitude  \\\n",
       "count  637976.000000  693071.000000     693071.000000  693071.000000   \n",
       "mean       16.545125       2.189430          1.013870      42.338172   \n",
       "std         9.324359       1.138937          0.091641       0.047840   \n",
       "min         2.500000       0.020000          1.000000      42.214800   \n",
       "25%         9.000000       1.280000          1.000000      42.350300   \n",
       "50%        13.500000       2.160000          1.000000      42.351900   \n",
       "75%        22.500000       2.920000          1.000000      42.364700   \n",
       "max        97.500000       7.860000          3.000000      42.366100   \n",
       "\n",
       "           longitude    temperature  ...  precipIntensityMax   uvIndexTime  \\\n",
       "count  693071.000000  693071.000000  ...       693071.000000  6.930710e+05   \n",
       "mean      -71.066151      39.584388  ...            0.037374  1.544044e+09   \n",
       "std         0.020302       6.726084  ...            0.055214  6.912028e+05   \n",
       "min       -71.105400      18.910000  ...            0.000000  1.543162e+09   \n",
       "25%       -71.081000      36.450000  ...            0.000000  1.543421e+09   \n",
       "50%       -71.063100      40.490000  ...            0.000400  1.543770e+09   \n",
       "75%       -71.054200      43.580000  ...            0.091600  1.544807e+09   \n",
       "max       -71.033000      57.220000  ...            0.145900  1.545152e+09   \n",
       "\n",
       "       temperatureMin  temperatureMinTime  temperatureMax  temperatureMaxTime  \\\n",
       "count   693071.000000        6.930710e+05   693071.000000        6.930710e+05   \n",
       "mean        33.457774        1.544042e+09       45.261313        1.544047e+09   \n",
       "std          6.467224        6.901954e+05        5.645046        6.901353e+05   \n",
       "min         15.630000        1.543122e+09       33.510000        1.543154e+09   \n",
       "25%         30.170000        1.543399e+09       42.570000        1.543439e+09   \n",
       "50%         34.240000        1.543727e+09       44.680000        1.543788e+09   \n",
       "75%         38.880000        1.544789e+09       46.910000        1.544814e+09   \n",
       "max         43.100000        1.545192e+09       57.870000        1.545109e+09   \n",
       "\n",
       "       apparentTemperatureMin  apparentTemperatureMinTime  \\\n",
       "count           693071.000000                6.930710e+05   \n",
       "mean                29.731002                1.544048e+09   \n",
       "std                  7.110494                6.871862e+05   \n",
       "min                 11.810000                1.543136e+09   \n",
       "25%                 27.760000                1.543399e+09   \n",
       "50%                 30.130000                1.543745e+09   \n",
       "75%                 35.710000                1.544789e+09   \n",
       "max                 40.050000                1.545134e+09   \n",
       "\n",
       "       apparentTemperatureMax  apparentTemperatureMaxTime  \n",
       "count           693071.000000                6.930710e+05  \n",
       "mean                41.997343                1.544048e+09  \n",
       "std                  6.936841                6.910777e+05  \n",
       "min                 28.950000                1.543187e+09  \n",
       "25%                 36.570000                1.543439e+09  \n",
       "50%                 40.950000                1.543788e+09  \n",
       "75%                 44.120000                1.544818e+09  \n",
       "max                 57.200000                1.545109e+09  \n",
       "\n",
       "[8 rows x 46 columns]"
      ]
     },
     "metadata": {},
     "execution_count": 8
    }
   ],
   "metadata": {}
  },
  {
   "cell_type": "code",
   "execution_count": 4,
   "source": [
    "categorical_cols=data.columns[data.dtypes =='object']\r\n",
    "print(categorical_cols)"
   ],
   "outputs": [
    {
     "output_type": "stream",
     "name": "stdout",
     "text": [
      "Index(['id', 'datetime', 'timezone', 'source', 'destination', 'cab_type',\n",
      "       'product_id', 'name', 'short_summary', 'long_summary', 'icon'],\n",
      "      dtype='object')\n"
     ]
    }
   ],
   "metadata": {}
  },
  {
   "cell_type": "code",
   "execution_count": 10,
   "source": [
    "data.source.value_counts()"
   ],
   "outputs": [
    {
     "output_type": "execute_result",
     "data": {
      "text/plain": [
       "Financial District         58857\n",
       "Theatre District           57813\n",
       "Back Bay                   57792\n",
       "Boston University          57764\n",
       "North End                  57763\n",
       "Fenway                     57757\n",
       "Northeastern University    57756\n",
       "South Station              57750\n",
       "Haymarket Square           57736\n",
       "West End                   57562\n",
       "Beacon Hill                57403\n",
       "North Station              57118\n",
       "Name: source, dtype: int64"
      ]
     },
     "metadata": {},
     "execution_count": 10
    }
   ],
   "metadata": {}
  },
  {
   "cell_type": "code",
   "execution_count": 20,
   "source": [
    "data.destination.value_counts()"
   ],
   "outputs": [
    {
     "output_type": "execute_result",
     "data": {
      "text/plain": [
       "Financial District         58851\n",
       "Theatre District           57798\n",
       "Back Bay                   57780\n",
       "Haymarket Square           57764\n",
       "Boston University          57764\n",
       "Fenway                     57757\n",
       "North End                  57756\n",
       "Northeastern University    57755\n",
       "South Station              57749\n",
       "West End                   57575\n",
       "Beacon Hill                57403\n",
       "North Station              57119\n",
       "Name: destination, dtype: int64"
      ]
     },
     "metadata": {},
     "execution_count": 20
    }
   ],
   "metadata": {}
  },
  {
   "cell_type": "code",
   "execution_count": 21,
   "source": [
    "data.cab_type.value_counts()"
   ],
   "outputs": [
    {
     "output_type": "execute_result",
     "data": {
      "text/plain": [
       "Uber    385663\n",
       "Lyft    307408\n",
       "Name: cab_type, dtype: int64"
      ]
     },
     "metadata": {},
     "execution_count": 21
    }
   ],
   "metadata": {}
  },
  {
   "cell_type": "code",
   "execution_count": 22,
   "source": [
    "data.product_id.value_counts()"
   ],
   "outputs": [
    {
     "output_type": "execute_result",
     "data": {
      "text/plain": [
       "6f72dfc5-27f1-42e8-84db-ccc7a75f6969    55096\n",
       "9a0e7b09-b92b-4c41-9779-2ad22b4d779d    55096\n",
       "6d318bcc-22a3-4af6-bddd-b409bfce1546    55096\n",
       "6c84fd89-3f11-4782-9b50-97c468b19529    55095\n",
       "8cf7e821-f0d3-49c6-8eba-e679c0ebcf6a    55095\n",
       "55c66225-fbe7-4fd5-9072-eab1ece5e23e    55094\n",
       "997acbb5-e102-41e1-b155-9df7de0a73f2    55091\n",
       "lyft_premier                            51235\n",
       "lyft                                    51235\n",
       "lyft_luxsuv                             51235\n",
       "lyft_plus                               51235\n",
       "lyft_lux                                51235\n",
       "lyft_line                               51233\n",
       "Name: product_id, dtype: int64"
      ]
     },
     "metadata": {},
     "execution_count": 22
    }
   ],
   "metadata": {}
  },
  {
   "cell_type": "code",
   "execution_count": 23,
   "source": [
    "data.name.value_counts()"
   ],
   "outputs": [
    {
     "output_type": "execute_result",
     "data": {
      "text/plain": [
       "UberXL          55096\n",
       "WAV             55096\n",
       "Black SUV       55096\n",
       "Black           55095\n",
       "Taxi            55095\n",
       "UberX           55094\n",
       "UberPool        55091\n",
       "Lux             51235\n",
       "Lyft            51235\n",
       "Lux Black XL    51235\n",
       "Lyft XL         51235\n",
       "Lux Black       51235\n",
       "Shared          51233\n",
       "Name: name, dtype: int64"
      ]
     },
     "metadata": {},
     "execution_count": 23
    }
   ],
   "metadata": {}
  },
  {
   "cell_type": "code",
   "execution_count": 135,
   "source": [
    "data.short_summary.value_counts()"
   ],
   "outputs": [
    {
     "output_type": "execute_result",
     "data": {
      "text/plain": [
       " Overcast             218895\n",
       " Mostly Cloudy        146210\n",
       " Partly Cloudy        127224\n",
       " Clear                 87126\n",
       " Light Rain            54912\n",
       " Rain                  23712\n",
       " Possible Drizzle      18636\n",
       " Foggy                  9060\n",
       " Drizzle                7296\n",
       "Name: short_summary, dtype: int64"
      ]
     },
     "metadata": {},
     "execution_count": 135
    }
   ],
   "metadata": {}
  },
  {
   "cell_type": "code",
   "execution_count": 136,
   "source": [
    "data.long_summary.value_counts()"
   ],
   "outputs": [
    {
     "output_type": "execute_result",
     "data": {
      "text/plain": [
       " Mostly cloudy throughout the day.                      202340\n",
       " Partly cloudy throughout the day.                      145279\n",
       " Light rain in the morning.                             102485\n",
       " Rain throughout the day.                                54288\n",
       " Light rain in the morning and overnight.                50544\n",
       " Rain until morning, starting again in the evening.      47931\n",
       " Foggy in the morning.                                   44772\n",
       " Light rain until evening.                               35568\n",
       " Overcast throughout the day.                             7488\n",
       " Possible drizzle in the morning.                         1872\n",
       " Rain in the morning and afternoon.                        504\n",
       "Name: long_summary, dtype: int64"
      ]
     },
     "metadata": {},
     "execution_count": 136
    }
   ],
   "metadata": {}
  },
  {
   "cell_type": "code",
   "execution_count": 137,
   "source": [
    "data.icon.value_counts()"
   ],
   "outputs": [
    {
     "output_type": "execute_result",
     "data": {
      "text/plain": [
       " cloudy                  218895\n",
       " partly-cloudy-night     158030\n",
       " partly-cloudy-day       115404\n",
       " rain                    104556\n",
       " clear-night              60294\n",
       " clear-day                26832\n",
       " fog                       9060\n",
       "Name: icon, dtype: int64"
      ]
     },
     "metadata": {},
     "execution_count": 137
    }
   ],
   "metadata": {}
  },
  {
   "cell_type": "markdown",
   "source": [
    "## Data Cleaning"
   ],
   "metadata": {}
  },
  {
   "cell_type": "markdown",
   "source": [
    "Mengecek jumlah data yang memiliki duplicate."
   ],
   "metadata": {}
  },
  {
   "cell_type": "code",
   "execution_count": 11,
   "source": [
    "data.duplicated().sum()"
   ],
   "outputs": [
    {
     "output_type": "execute_result",
     "data": {
      "text/plain": [
       "0"
      ]
     },
     "metadata": {},
     "execution_count": 11
    }
   ],
   "metadata": {}
  },
  {
   "cell_type": "markdown",
   "source": [
    "Mengecek apakah masih terdapat data duplicated pada data dan hasilnya tidak ada."
   ],
   "metadata": {}
  },
  {
   "cell_type": "code",
   "execution_count": 12,
   "source": [
    "data.duplicated().value_counts()"
   ],
   "outputs": [
    {
     "output_type": "execute_result",
     "data": {
      "text/plain": [
       "False    693071\n",
       "dtype: int64"
      ]
     },
     "metadata": {},
     "execution_count": 12
    }
   ],
   "metadata": {}
  },
  {
   "cell_type": "markdown",
   "source": [
    "Menghapus kolom yang tidak dibutuhkan."
   ],
   "metadata": {}
  },
  {
   "cell_type": "code",
   "execution_count": 151,
   "source": [
    "data2 = data.drop(['id', 'datetime', 'timezone', 'timestamp','latitude', 'longitude', 'temperature',\r\n",
    "       'apparentTemperature', 'short_summary', 'long_summary',\"product_id\",\r\n",
    "       'precipIntensity', 'precipProbability', 'humidity', 'windSpeed',\r\n",
    "       'windGust', 'windGustTime', 'visibility', 'temperatureHigh',\r\n",
    "       'temperatureHighTime', 'temperatureLow', 'temperatureLowTime',\r\n",
    "       'apparentTemperatureHigh', 'apparentTemperatureHighTime',\r\n",
    "       'apparentTemperatureLow', 'apparentTemperatureLowTime', 'icon',\r\n",
    "       'dewPoint', 'pressure', 'windBearing', 'cloudCover', 'uvIndex',\r\n",
    "       'visibility.1', 'ozone', 'sunriseTime', 'sunsetTime', 'moonPhase',\r\n",
    "       'precipIntensityMax', 'uvIndexTime', 'temperatureMin',\r\n",
    "       'temperatureMinTime', 'temperatureMax', 'temperatureMaxTime',\r\n",
    "       'apparentTemperatureMin', 'apparentTemperatureMinTime',\r\n",
    "       'apparentTemperatureMax', 'apparentTemperatureMaxTime'], axis=1)"
   ],
   "outputs": [],
   "metadata": {}
  },
  {
   "cell_type": "code",
   "execution_count": 14,
   "source": [
    "data2"
   ],
   "outputs": [
    {
     "output_type": "execute_result",
     "data": {
      "text/html": [
       "<div>\n",
       "<style scoped>\n",
       "    .dataframe tbody tr th:only-of-type {\n",
       "        vertical-align: middle;\n",
       "    }\n",
       "\n",
       "    .dataframe tbody tr th {\n",
       "        vertical-align: top;\n",
       "    }\n",
       "\n",
       "    .dataframe thead th {\n",
       "        text-align: right;\n",
       "    }\n",
       "</style>\n",
       "<table border=\"1\" class=\"dataframe\">\n",
       "  <thead>\n",
       "    <tr style=\"text-align: right;\">\n",
       "      <th></th>\n",
       "      <th>hour</th>\n",
       "      <th>day</th>\n",
       "      <th>month</th>\n",
       "      <th>source</th>\n",
       "      <th>destination</th>\n",
       "      <th>cab_type</th>\n",
       "      <th>name</th>\n",
       "      <th>price</th>\n",
       "      <th>distance</th>\n",
       "      <th>surge_multiplier</th>\n",
       "    </tr>\n",
       "  </thead>\n",
       "  <tbody>\n",
       "    <tr>\n",
       "      <th>0</th>\n",
       "      <td>9</td>\n",
       "      <td>16</td>\n",
       "      <td>12</td>\n",
       "      <td>Haymarket Square</td>\n",
       "      <td>North Station</td>\n",
       "      <td>Lyft</td>\n",
       "      <td>Shared</td>\n",
       "      <td>5.0</td>\n",
       "      <td>0.44</td>\n",
       "      <td>1.0</td>\n",
       "    </tr>\n",
       "    <tr>\n",
       "      <th>1</th>\n",
       "      <td>2</td>\n",
       "      <td>27</td>\n",
       "      <td>11</td>\n",
       "      <td>Haymarket Square</td>\n",
       "      <td>North Station</td>\n",
       "      <td>Lyft</td>\n",
       "      <td>Lux</td>\n",
       "      <td>11.0</td>\n",
       "      <td>0.44</td>\n",
       "      <td>1.0</td>\n",
       "    </tr>\n",
       "    <tr>\n",
       "      <th>2</th>\n",
       "      <td>1</td>\n",
       "      <td>28</td>\n",
       "      <td>11</td>\n",
       "      <td>Haymarket Square</td>\n",
       "      <td>North Station</td>\n",
       "      <td>Lyft</td>\n",
       "      <td>Lyft</td>\n",
       "      <td>7.0</td>\n",
       "      <td>0.44</td>\n",
       "      <td>1.0</td>\n",
       "    </tr>\n",
       "    <tr>\n",
       "      <th>3</th>\n",
       "      <td>4</td>\n",
       "      <td>30</td>\n",
       "      <td>11</td>\n",
       "      <td>Haymarket Square</td>\n",
       "      <td>North Station</td>\n",
       "      <td>Lyft</td>\n",
       "      <td>Lux Black XL</td>\n",
       "      <td>26.0</td>\n",
       "      <td>0.44</td>\n",
       "      <td>1.0</td>\n",
       "    </tr>\n",
       "    <tr>\n",
       "      <th>4</th>\n",
       "      <td>3</td>\n",
       "      <td>29</td>\n",
       "      <td>11</td>\n",
       "      <td>Haymarket Square</td>\n",
       "      <td>North Station</td>\n",
       "      <td>Lyft</td>\n",
       "      <td>Lyft XL</td>\n",
       "      <td>9.0</td>\n",
       "      <td>0.44</td>\n",
       "      <td>1.0</td>\n",
       "    </tr>\n",
       "    <tr>\n",
       "      <th>...</th>\n",
       "      <td>...</td>\n",
       "      <td>...</td>\n",
       "      <td>...</td>\n",
       "      <td>...</td>\n",
       "      <td>...</td>\n",
       "      <td>...</td>\n",
       "      <td>...</td>\n",
       "      <td>...</td>\n",
       "      <td>...</td>\n",
       "      <td>...</td>\n",
       "    </tr>\n",
       "    <tr>\n",
       "      <th>693066</th>\n",
       "      <td>23</td>\n",
       "      <td>1</td>\n",
       "      <td>12</td>\n",
       "      <td>West End</td>\n",
       "      <td>North End</td>\n",
       "      <td>Uber</td>\n",
       "      <td>UberXL</td>\n",
       "      <td>13.0</td>\n",
       "      <td>1.00</td>\n",
       "      <td>1.0</td>\n",
       "    </tr>\n",
       "    <tr>\n",
       "      <th>693067</th>\n",
       "      <td>23</td>\n",
       "      <td>1</td>\n",
       "      <td>12</td>\n",
       "      <td>West End</td>\n",
       "      <td>North End</td>\n",
       "      <td>Uber</td>\n",
       "      <td>UberX</td>\n",
       "      <td>9.5</td>\n",
       "      <td>1.00</td>\n",
       "      <td>1.0</td>\n",
       "    </tr>\n",
       "    <tr>\n",
       "      <th>693068</th>\n",
       "      <td>23</td>\n",
       "      <td>1</td>\n",
       "      <td>12</td>\n",
       "      <td>West End</td>\n",
       "      <td>North End</td>\n",
       "      <td>Uber</td>\n",
       "      <td>Taxi</td>\n",
       "      <td>NaN</td>\n",
       "      <td>1.00</td>\n",
       "      <td>1.0</td>\n",
       "    </tr>\n",
       "    <tr>\n",
       "      <th>693069</th>\n",
       "      <td>23</td>\n",
       "      <td>1</td>\n",
       "      <td>12</td>\n",
       "      <td>West End</td>\n",
       "      <td>North End</td>\n",
       "      <td>Uber</td>\n",
       "      <td>Black SUV</td>\n",
       "      <td>27.0</td>\n",
       "      <td>1.00</td>\n",
       "      <td>1.0</td>\n",
       "    </tr>\n",
       "    <tr>\n",
       "      <th>693070</th>\n",
       "      <td>23</td>\n",
       "      <td>1</td>\n",
       "      <td>12</td>\n",
       "      <td>West End</td>\n",
       "      <td>North End</td>\n",
       "      <td>Uber</td>\n",
       "      <td>UberPool</td>\n",
       "      <td>10.0</td>\n",
       "      <td>1.00</td>\n",
       "      <td>1.0</td>\n",
       "    </tr>\n",
       "  </tbody>\n",
       "</table>\n",
       "<p>693071 rows × 10 columns</p>\n",
       "</div>"
      ],
      "text/plain": [
       "        hour  day  month            source    destination cab_type  \\\n",
       "0          9   16     12  Haymarket Square  North Station     Lyft   \n",
       "1          2   27     11  Haymarket Square  North Station     Lyft   \n",
       "2          1   28     11  Haymarket Square  North Station     Lyft   \n",
       "3          4   30     11  Haymarket Square  North Station     Lyft   \n",
       "4          3   29     11  Haymarket Square  North Station     Lyft   \n",
       "...      ...  ...    ...               ...            ...      ...   \n",
       "693066    23    1     12          West End      North End     Uber   \n",
       "693067    23    1     12          West End      North End     Uber   \n",
       "693068    23    1     12          West End      North End     Uber   \n",
       "693069    23    1     12          West End      North End     Uber   \n",
       "693070    23    1     12          West End      North End     Uber   \n",
       "\n",
       "                name  price  distance  surge_multiplier  \n",
       "0             Shared    5.0      0.44               1.0  \n",
       "1                Lux   11.0      0.44               1.0  \n",
       "2               Lyft    7.0      0.44               1.0  \n",
       "3       Lux Black XL   26.0      0.44               1.0  \n",
       "4            Lyft XL    9.0      0.44               1.0  \n",
       "...              ...    ...       ...               ...  \n",
       "693066        UberXL   13.0      1.00               1.0  \n",
       "693067         UberX    9.5      1.00               1.0  \n",
       "693068          Taxi    NaN      1.00               1.0  \n",
       "693069     Black SUV   27.0      1.00               1.0  \n",
       "693070      UberPool   10.0      1.00               1.0  \n",
       "\n",
       "[693071 rows x 10 columns]"
      ]
     },
     "metadata": {},
     "execution_count": 14
    }
   ],
   "metadata": {}
  },
  {
   "cell_type": "markdown",
   "source": [
    "### NAN Value"
   ],
   "metadata": {}
  },
  {
   "cell_type": "markdown",
   "source": [
    "Mengecek apakah ada data yang null."
   ],
   "metadata": {}
  },
  {
   "cell_type": "code",
   "execution_count": 152,
   "source": [
    "data2.isna().sum()"
   ],
   "outputs": [
    {
     "output_type": "execute_result",
     "data": {
      "text/plain": [
       "hour                    0\n",
       "day                     0\n",
       "month                   0\n",
       "source                  0\n",
       "destination             0\n",
       "cab_type                0\n",
       "name                    0\n",
       "price               55095\n",
       "distance                0\n",
       "surge_multiplier        0\n",
       "dtype: int64"
      ]
     },
     "metadata": {},
     "execution_count": 152
    }
   ],
   "metadata": {}
  },
  {
   "cell_type": "code",
   "execution_count": 153,
   "source": [
    "data2[data2.price.isna()]"
   ],
   "outputs": [
    {
     "output_type": "execute_result",
     "data": {
      "text/html": [
       "<div>\n",
       "<style scoped>\n",
       "    .dataframe tbody tr th:only-of-type {\n",
       "        vertical-align: middle;\n",
       "    }\n",
       "\n",
       "    .dataframe tbody tr th {\n",
       "        vertical-align: top;\n",
       "    }\n",
       "\n",
       "    .dataframe thead th {\n",
       "        text-align: right;\n",
       "    }\n",
       "</style>\n",
       "<table border=\"1\" class=\"dataframe\">\n",
       "  <thead>\n",
       "    <tr style=\"text-align: right;\">\n",
       "      <th></th>\n",
       "      <th>hour</th>\n",
       "      <th>day</th>\n",
       "      <th>month</th>\n",
       "      <th>source</th>\n",
       "      <th>destination</th>\n",
       "      <th>cab_type</th>\n",
       "      <th>name</th>\n",
       "      <th>price</th>\n",
       "      <th>distance</th>\n",
       "      <th>surge_multiplier</th>\n",
       "    </tr>\n",
       "  </thead>\n",
       "  <tbody>\n",
       "    <tr>\n",
       "      <th>18</th>\n",
       "      <td>14</td>\n",
       "      <td>1</td>\n",
       "      <td>12</td>\n",
       "      <td>North End</td>\n",
       "      <td>West End</td>\n",
       "      <td>Uber</td>\n",
       "      <td>Taxi</td>\n",
       "      <td>NaN</td>\n",
       "      <td>1.11</td>\n",
       "      <td>1.0</td>\n",
       "    </tr>\n",
       "    <tr>\n",
       "      <th>31</th>\n",
       "      <td>23</td>\n",
       "      <td>2</td>\n",
       "      <td>12</td>\n",
       "      <td>Beacon Hill</td>\n",
       "      <td>South Station</td>\n",
       "      <td>Uber</td>\n",
       "      <td>Taxi</td>\n",
       "      <td>NaN</td>\n",
       "      <td>2.48</td>\n",
       "      <td>1.0</td>\n",
       "    </tr>\n",
       "    <tr>\n",
       "      <th>40</th>\n",
       "      <td>20</td>\n",
       "      <td>29</td>\n",
       "      <td>11</td>\n",
       "      <td>North Station</td>\n",
       "      <td>Fenway</td>\n",
       "      <td>Uber</td>\n",
       "      <td>Taxi</td>\n",
       "      <td>NaN</td>\n",
       "      <td>2.94</td>\n",
       "      <td>1.0</td>\n",
       "    </tr>\n",
       "    <tr>\n",
       "      <th>60</th>\n",
       "      <td>20</td>\n",
       "      <td>13</td>\n",
       "      <td>12</td>\n",
       "      <td>North End</td>\n",
       "      <td>West End</td>\n",
       "      <td>Uber</td>\n",
       "      <td>Taxi</td>\n",
       "      <td>NaN</td>\n",
       "      <td>1.16</td>\n",
       "      <td>1.0</td>\n",
       "    </tr>\n",
       "    <tr>\n",
       "      <th>69</th>\n",
       "      <td>13</td>\n",
       "      <td>30</td>\n",
       "      <td>11</td>\n",
       "      <td>North End</td>\n",
       "      <td>Beacon Hill</td>\n",
       "      <td>Uber</td>\n",
       "      <td>Taxi</td>\n",
       "      <td>NaN</td>\n",
       "      <td>2.67</td>\n",
       "      <td>1.0</td>\n",
       "    </tr>\n",
       "    <tr>\n",
       "      <th>...</th>\n",
       "      <td>...</td>\n",
       "      <td>...</td>\n",
       "      <td>...</td>\n",
       "      <td>...</td>\n",
       "      <td>...</td>\n",
       "      <td>...</td>\n",
       "      <td>...</td>\n",
       "      <td>...</td>\n",
       "      <td>...</td>\n",
       "      <td>...</td>\n",
       "    </tr>\n",
       "    <tr>\n",
       "      <th>693025</th>\n",
       "      <td>15</td>\n",
       "      <td>15</td>\n",
       "      <td>12</td>\n",
       "      <td>South Station</td>\n",
       "      <td>Beacon Hill</td>\n",
       "      <td>Uber</td>\n",
       "      <td>Taxi</td>\n",
       "      <td>NaN</td>\n",
       "      <td>2.50</td>\n",
       "      <td>1.0</td>\n",
       "    </tr>\n",
       "    <tr>\n",
       "      <th>693047</th>\n",
       "      <td>1</td>\n",
       "      <td>29</td>\n",
       "      <td>11</td>\n",
       "      <td>Haymarket Square</td>\n",
       "      <td>Beacon Hill</td>\n",
       "      <td>Uber</td>\n",
       "      <td>Taxi</td>\n",
       "      <td>NaN</td>\n",
       "      <td>0.91</td>\n",
       "      <td>1.0</td>\n",
       "    </tr>\n",
       "    <tr>\n",
       "      <th>693049</th>\n",
       "      <td>1</td>\n",
       "      <td>29</td>\n",
       "      <td>11</td>\n",
       "      <td>North End</td>\n",
       "      <td>Beacon Hill</td>\n",
       "      <td>Uber</td>\n",
       "      <td>Taxi</td>\n",
       "      <td>NaN</td>\n",
       "      <td>1.79</td>\n",
       "      <td>1.0</td>\n",
       "    </tr>\n",
       "    <tr>\n",
       "      <th>693060</th>\n",
       "      <td>5</td>\n",
       "      <td>2</td>\n",
       "      <td>12</td>\n",
       "      <td>Theatre District</td>\n",
       "      <td>Haymarket Square</td>\n",
       "      <td>Uber</td>\n",
       "      <td>Taxi</td>\n",
       "      <td>NaN</td>\n",
       "      <td>1.61</td>\n",
       "      <td>1.0</td>\n",
       "    </tr>\n",
       "    <tr>\n",
       "      <th>693068</th>\n",
       "      <td>23</td>\n",
       "      <td>1</td>\n",
       "      <td>12</td>\n",
       "      <td>West End</td>\n",
       "      <td>North End</td>\n",
       "      <td>Uber</td>\n",
       "      <td>Taxi</td>\n",
       "      <td>NaN</td>\n",
       "      <td>1.00</td>\n",
       "      <td>1.0</td>\n",
       "    </tr>\n",
       "  </tbody>\n",
       "</table>\n",
       "<p>55095 rows × 10 columns</p>\n",
       "</div>"
      ],
      "text/plain": [
       "        hour  day  month            source       destination cab_type  name  \\\n",
       "18        14    1     12         North End          West End     Uber  Taxi   \n",
       "31        23    2     12       Beacon Hill     South Station     Uber  Taxi   \n",
       "40        20   29     11     North Station            Fenway     Uber  Taxi   \n",
       "60        20   13     12         North End          West End     Uber  Taxi   \n",
       "69        13   30     11         North End       Beacon Hill     Uber  Taxi   \n",
       "...      ...  ...    ...               ...               ...      ...   ...   \n",
       "693025    15   15     12     South Station       Beacon Hill     Uber  Taxi   \n",
       "693047     1   29     11  Haymarket Square       Beacon Hill     Uber  Taxi   \n",
       "693049     1   29     11         North End       Beacon Hill     Uber  Taxi   \n",
       "693060     5    2     12  Theatre District  Haymarket Square     Uber  Taxi   \n",
       "693068    23    1     12          West End         North End     Uber  Taxi   \n",
       "\n",
       "        price  distance  surge_multiplier  \n",
       "18        NaN      1.11               1.0  \n",
       "31        NaN      2.48               1.0  \n",
       "40        NaN      2.94               1.0  \n",
       "60        NaN      1.16               1.0  \n",
       "69        NaN      2.67               1.0  \n",
       "...       ...       ...               ...  \n",
       "693025    NaN      2.50               1.0  \n",
       "693047    NaN      0.91               1.0  \n",
       "693049    NaN      1.79               1.0  \n",
       "693060    NaN      1.61               1.0  \n",
       "693068    NaN      1.00               1.0  \n",
       "\n",
       "[55095 rows x 10 columns]"
      ]
     },
     "metadata": {},
     "execution_count": 153
    }
   ],
   "metadata": {}
  },
  {
   "cell_type": "code",
   "execution_count": 154,
   "source": [
    "data2 = data2.dropna()\r\n",
    "data2.isna().sum()"
   ],
   "outputs": [
    {
     "output_type": "execute_result",
     "data": {
      "text/plain": [
       "hour                0\n",
       "day                 0\n",
       "month               0\n",
       "source              0\n",
       "destination         0\n",
       "cab_type            0\n",
       "name                0\n",
       "price               0\n",
       "distance            0\n",
       "surge_multiplier    0\n",
       "dtype: int64"
      ]
     },
     "metadata": {},
     "execution_count": 154
    }
   ],
   "metadata": {}
  },
  {
   "cell_type": "code",
   "execution_count": 155,
   "source": [
    "data2.price"
   ],
   "outputs": [
    {
     "output_type": "execute_result",
     "data": {
      "text/plain": [
       "0          5.0\n",
       "1         11.0\n",
       "2          7.0\n",
       "3         26.0\n",
       "4          9.0\n",
       "          ... \n",
       "693065     9.5\n",
       "693066    13.0\n",
       "693067     9.5\n",
       "693069    27.0\n",
       "693070    10.0\n",
       "Name: price, Length: 637976, dtype: float64"
      ]
     },
     "metadata": {},
     "execution_count": 155
    }
   ],
   "metadata": {}
  },
  {
   "cell_type": "markdown",
   "source": [
    "## Data Exploration"
   ],
   "metadata": {}
  },
  {
   "cell_type": "markdown",
   "source": [
    "### Mengecek Outlier"
   ],
   "metadata": {}
  },
  {
   "cell_type": "code",
   "execution_count": 26,
   "source": [
    "sns.boxplot(x=data2['distance'])"
   ],
   "outputs": [
    {
     "output_type": "execute_result",
     "data": {
      "text/plain": [
       "<AxesSubplot:xlabel='distance'>"
      ]
     },
     "metadata": {},
     "execution_count": 26
    },
    {
     "output_type": "display_data",
     "data": {
      "image/png": "[encoded data removed]",
      "text/plain": [
       "<Figure size 640x480 with 1 Axes>"
      ]
     },
     "metadata": {}
    }
   ],
   "metadata": {}
  },
  {
   "cell_type": "code",
   "execution_count": 27,
   "source": [
    "sns.boxplot(x=data2['price'])"
   ],
   "outputs": [
    {
     "output_type": "execute_result",
     "data": {
      "text/plain": [
       "<AxesSubplot:xlabel='price'>"
      ]
     },
     "metadata": {},
     "execution_count": 27
    },
    {
     "output_type": "display_data",
     "data": {
      "image/png": "[encoded data removed]",
      "text/plain": [
       "<Figure size 640x480 with 1 Axes>"
      ]
     },
     "metadata": {}
    }
   ],
   "metadata": {}
  },
  {
   "cell_type": "code",
   "execution_count": 156,
   "source": [
    "data3 = data2.drop(['hour','day','month','source','destination'],axis=1)\r\n",
    "data3"
   ],
   "outputs": [
    {
     "output_type": "execute_result",
     "data": {
      "text/html": [
       "<div>\n",
       "<style scoped>\n",
       "    .dataframe tbody tr th:only-of-type {\n",
       "        vertical-align: middle;\n",
       "    }\n",
       "\n",
       "    .dataframe tbody tr th {\n",
       "        vertical-align: top;\n",
       "    }\n",
       "\n",
       "    .dataframe thead th {\n",
       "        text-align: right;\n",
       "    }\n",
       "</style>\n",
       "<table border=\"1\" class=\"dataframe\">\n",
       "  <thead>\n",
       "    <tr style=\"text-align: right;\">\n",
       "      <th></th>\n",
       "      <th>cab_type</th>\n",
       "      <th>name</th>\n",
       "      <th>price</th>\n",
       "      <th>distance</th>\n",
       "      <th>surge_multiplier</th>\n",
       "    </tr>\n",
       "  </thead>\n",
       "  <tbody>\n",
       "    <tr>\n",
       "      <th>0</th>\n",
       "      <td>Lyft</td>\n",
       "      <td>Shared</td>\n",
       "      <td>5.0</td>\n",
       "      <td>0.44</td>\n",
       "      <td>1.0</td>\n",
       "    </tr>\n",
       "    <tr>\n",
       "      <th>1</th>\n",
       "      <td>Lyft</td>\n",
       "      <td>Lux</td>\n",
       "      <td>11.0</td>\n",
       "      <td>0.44</td>\n",
       "      <td>1.0</td>\n",
       "    </tr>\n",
       "    <tr>\n",
       "      <th>2</th>\n",
       "      <td>Lyft</td>\n",
       "      <td>Lyft</td>\n",
       "      <td>7.0</td>\n",
       "      <td>0.44</td>\n",
       "      <td>1.0</td>\n",
       "    </tr>\n",
       "    <tr>\n",
       "      <th>3</th>\n",
       "      <td>Lyft</td>\n",
       "      <td>Lux Black XL</td>\n",
       "      <td>26.0</td>\n",
       "      <td>0.44</td>\n",
       "      <td>1.0</td>\n",
       "    </tr>\n",
       "    <tr>\n",
       "      <th>4</th>\n",
       "      <td>Lyft</td>\n",
       "      <td>Lyft XL</td>\n",
       "      <td>9.0</td>\n",
       "      <td>0.44</td>\n",
       "      <td>1.0</td>\n",
       "    </tr>\n",
       "    <tr>\n",
       "      <th>...</th>\n",
       "      <td>...</td>\n",
       "      <td>...</td>\n",
       "      <td>...</td>\n",
       "      <td>...</td>\n",
       "      <td>...</td>\n",
       "    </tr>\n",
       "    <tr>\n",
       "      <th>693065</th>\n",
       "      <td>Uber</td>\n",
       "      <td>WAV</td>\n",
       "      <td>9.5</td>\n",
       "      <td>1.00</td>\n",
       "      <td>1.0</td>\n",
       "    </tr>\n",
       "    <tr>\n",
       "      <th>693066</th>\n",
       "      <td>Uber</td>\n",
       "      <td>UberXL</td>\n",
       "      <td>13.0</td>\n",
       "      <td>1.00</td>\n",
       "      <td>1.0</td>\n",
       "    </tr>\n",
       "    <tr>\n",
       "      <th>693067</th>\n",
       "      <td>Uber</td>\n",
       "      <td>UberX</td>\n",
       "      <td>9.5</td>\n",
       "      <td>1.00</td>\n",
       "      <td>1.0</td>\n",
       "    </tr>\n",
       "    <tr>\n",
       "      <th>693069</th>\n",
       "      <td>Uber</td>\n",
       "      <td>Black SUV</td>\n",
       "      <td>27.0</td>\n",
       "      <td>1.00</td>\n",
       "      <td>1.0</td>\n",
       "    </tr>\n",
       "    <tr>\n",
       "      <th>693070</th>\n",
       "      <td>Uber</td>\n",
       "      <td>UberPool</td>\n",
       "      <td>10.0</td>\n",
       "      <td>1.00</td>\n",
       "      <td>1.0</td>\n",
       "    </tr>\n",
       "  </tbody>\n",
       "</table>\n",
       "<p>637976 rows × 5 columns</p>\n",
       "</div>"
      ],
      "text/plain": [
       "       cab_type          name  price  distance  surge_multiplier\n",
       "0          Lyft        Shared    5.0      0.44               1.0\n",
       "1          Lyft           Lux   11.0      0.44               1.0\n",
       "2          Lyft          Lyft    7.0      0.44               1.0\n",
       "3          Lyft  Lux Black XL   26.0      0.44               1.0\n",
       "4          Lyft       Lyft XL    9.0      0.44               1.0\n",
       "...         ...           ...    ...       ...               ...\n",
       "693065     Uber           WAV    9.5      1.00               1.0\n",
       "693066     Uber        UberXL   13.0      1.00               1.0\n",
       "693067     Uber         UberX    9.5      1.00               1.0\n",
       "693069     Uber     Black SUV   27.0      1.00               1.0\n",
       "693070     Uber      UberPool   10.0      1.00               1.0\n",
       "\n",
       "[637976 rows x 5 columns]"
      ]
     },
     "metadata": {},
     "execution_count": 156
    }
   ],
   "metadata": {}
  },
  {
   "cell_type": "markdown",
   "source": [
    "## Data Preprocessing"
   ],
   "metadata": {}
  },
  {
   "cell_type": "markdown",
   "source": [
    "### Normality Check Target"
   ],
   "metadata": {}
  },
  {
   "cell_type": "code",
   "execution_count": 157,
   "source": [
    "data3.price.hist()"
   ],
   "outputs": [
    {
     "output_type": "execute_result",
     "data": {
      "text/plain": [
       "<AxesSubplot:>"
      ]
     },
     "metadata": {},
     "execution_count": 157
    },
    {
     "output_type": "display_data",
     "data": {
      "image/png": "[encoded data removed]",
      "text/plain": [
       "<Figure size 640x480 with 1 Axes>"
      ]
     },
     "metadata": {}
    }
   ],
   "metadata": {}
  },
  {
   "cell_type": "code",
   "execution_count": 158,
   "source": [
    "data3.price = np.log(data3.price.dropna())"
   ],
   "outputs": [],
   "metadata": {}
  },
  {
   "cell_type": "code",
   "execution_count": 159,
   "source": [
    "data3.price.hist()"
   ],
   "outputs": [
    {
     "output_type": "execute_result",
     "data": {
      "text/plain": [
       "<AxesSubplot:>"
      ]
     },
     "metadata": {},
     "execution_count": 159
    },
    {
     "output_type": "display_data",
     "data": {
      "image/png": "[encoded data removed]",
      "text/plain": [
       "<Figure size 640x480 with 1 Axes>"
      ]
     },
     "metadata": {}
    }
   ],
   "metadata": {}
  },
  {
   "cell_type": "code",
   "execution_count": 160,
   "source": [
    "stat, p = scipy.stats.shapiro(data3.price)\r\n",
    "print('stat=%.3f, p=%.3f' % (stat, p))\r\n",
    "if p > 0.05:\r\n",
    "    print('Probably Gaussian')\r\n",
    "else:\r\n",
    "    print('Probably not Gaussian')"
   ],
   "outputs": [
    {
     "output_type": "stream",
     "name": "stdout",
     "text": [
      "stat=0.980, p=0.000\n",
      "Probably not Gaussian\n"
     ]
    },
    {
     "output_type": "stream",
     "name": "stderr",
     "text": [
      "D:\\Application\\Anaconda\\lib\\site-packages\\scipy\\stats\\_morestats.py:1800: UserWarning: p-value may not be accurate for N > 5000.\n",
      "  warnings.warn(\"p-value may not be accurate for N > 5000.\")\n"
     ]
    }
   ],
   "metadata": {}
  },
  {
   "cell_type": "code",
   "execution_count": 161,
   "source": [
    "data3.distance.hist()"
   ],
   "outputs": [
    {
     "output_type": "execute_result",
     "data": {
      "text/plain": [
       "<AxesSubplot:>"
      ]
     },
     "metadata": {},
     "execution_count": 161
    },
    {
     "output_type": "display_data",
     "data": {
      "image/png": "[encoded data removed]",
      "text/plain": [
       "<Figure size 640x480 with 1 Axes>"
      ]
     },
     "metadata": {}
    }
   ],
   "metadata": {}
  },
  {
   "cell_type": "code",
   "execution_count": 162,
   "source": [
    "data3.distance = np.log(data3.distance.dropna())"
   ],
   "outputs": [],
   "metadata": {}
  },
  {
   "cell_type": "code",
   "execution_count": 163,
   "source": [
    "data3.distance.hist()"
   ],
   "outputs": [
    {
     "output_type": "execute_result",
     "data": {
      "text/plain": [
       "<AxesSubplot:>"
      ]
     },
     "metadata": {},
     "execution_count": 163
    },
    {
     "output_type": "display_data",
     "data": {
      "image/png": "[encoded data removed]",
      "text/plain": [
       "<Figure size 640x480 with 1 Axes>"
      ]
     },
     "metadata": {}
    }
   ],
   "metadata": {}
  },
  {
   "cell_type": "code",
   "execution_count": 164,
   "source": [
    "stat, p = scipy.stats.shapiro(data3.distance)\r\n",
    "print('stat=%.3f, p=%.3f' % (stat, p))\r\n",
    "if p > 0.05:\r\n",
    "    print('Probably Gaussian')\r\n",
    "else:\r\n",
    "    print('Probably not Gaussian')"
   ],
   "outputs": [
    {
     "output_type": "stream",
     "name": "stdout",
     "text": [
      "stat=0.958, p=0.000\n",
      "Probably not Gaussian\n"
     ]
    }
   ],
   "metadata": {}
  },
  {
   "cell_type": "markdown",
   "source": [
    "### Encoding"
   ],
   "metadata": {}
  },
  {
   "cell_type": "code",
   "execution_count": 165,
   "source": [
    "data3.info()"
   ],
   "outputs": [
    {
     "output_type": "stream",
     "name": "stdout",
     "text": [
      "<class 'pandas.core.frame.DataFrame'>\n",
      "Int64Index: 637976 entries, 0 to 693070\n",
      "Data columns (total 5 columns):\n",
      " #   Column            Non-Null Count   Dtype  \n",
      "---  ------            --------------   -----  \n",
      " 0   cab_type          637976 non-null  object \n",
      " 1   name              637976 non-null  object \n",
      " 2   price             637976 non-null  float64\n",
      " 3   distance          637976 non-null  float64\n",
      " 4   surge_multiplier  637976 non-null  float64\n",
      "dtypes: float64(3), object(2)\n",
      "memory usage: 29.2+ MB\n"
     ]
    }
   ],
   "metadata": {}
  },
  {
   "cell_type": "markdown",
   "source": [
    "Mengubah label data kategorik menjadi numerik menggunakan label Encoder."
   ],
   "metadata": {}
  },
  {
   "cell_type": "code",
   "execution_count": 166,
   "source": [
    "num_ohc_cols = (data3[data3.columns[data3.dtypes =='object']]\r\n",
    "                .apply(lambda x: x.nunique())\r\n",
    "                .sort_values(ascending=False))"
   ],
   "outputs": [],
   "metadata": {}
  },
  {
   "cell_type": "code",
   "execution_count": 167,
   "source": [
    "num_ohc_cols"
   ],
   "outputs": [
    {
     "output_type": "execute_result",
     "data": {
      "text/plain": [
       "name        12\n",
       "cab_type     2\n",
       "dtype: int64"
      ]
     },
     "metadata": {},
     "execution_count": 167
    }
   ],
   "metadata": {}
  },
  {
   "cell_type": "code",
   "execution_count": 168,
   "source": [
    "num_ohc_cols.index"
   ],
   "outputs": [
    {
     "output_type": "execute_result",
     "data": {
      "text/plain": [
       "Index(['name', 'cab_type'], dtype='object')"
      ]
     },
     "metadata": {},
     "execution_count": 168
    }
   ],
   "metadata": {}
  },
  {
   "cell_type": "code",
   "execution_count": 169,
   "source": [
    "le = LabelEncoder()\r\n",
    "ohc = OneHotEncoder()\r\n",
    "\r\n",
    "for col in num_ohc_cols.index:\r\n",
    "    \r\n",
    "    # Integer encode the string categories\r\n",
    "    dat = le.fit_transform(data3[col]).astype(int)\r\n",
    "    \r\n",
    "    # One hot encode the data--this returns a sparse array\r\n",
    "    new_dat = ohc.fit_transform(dat.reshape(-1,1))\r\n",
    "\r\n",
    "    # Create unique column names\r\n",
    "    n_cols = new_dat.shape[1]\r\n",
    "    col_names = ['_'.join([col, str(x)]) for x in range(n_cols)]\r\n",
    "\r\n",
    "    # Create the new dataframe\r\n",
    "    new_df = pd.DataFrame(new_dat.toarray(), \r\n",
    "                          index=data3.index, \r\n",
    "                          columns=col_names)\r\n",
    "    \r\n",
    "    # Append the new data to the dataframe\r\n",
    "    data3 = pd.concat([data3, new_df], axis=1)\r\n",
    "    \r\n",
    "    # Remove the original column from the dataframe\r\n",
    "    data3 = data3.drop(col, axis=1)"
   ],
   "outputs": [],
   "metadata": {}
  },
  {
   "cell_type": "code",
   "execution_count": 170,
   "source": [
    "data3"
   ],
   "outputs": [
    {
     "output_type": "execute_result",
     "data": {
      "text/html": [
       "<div>\n",
       "<style scoped>\n",
       "    .dataframe tbody tr th:only-of-type {\n",
       "        vertical-align: middle;\n",
       "    }\n",
       "\n",
       "    .dataframe tbody tr th {\n",
       "        vertical-align: top;\n",
       "    }\n",
       "\n",
       "    .dataframe thead th {\n",
       "        text-align: right;\n",
       "    }\n",
       "</style>\n",
       "<table border=\"1\" class=\"dataframe\">\n",
       "  <thead>\n",
       "    <tr style=\"text-align: right;\">\n",
       "      <th></th>\n",
       "      <th>price</th>\n",
       "      <th>distance</th>\n",
       "      <th>surge_multiplier</th>\n",
       "      <th>name_0</th>\n",
       "      <th>name_1</th>\n",
       "      <th>name_2</th>\n",
       "      <th>name_3</th>\n",
       "      <th>name_4</th>\n",
       "      <th>name_5</th>\n",
       "      <th>name_6</th>\n",
       "      <th>name_7</th>\n",
       "      <th>name_8</th>\n",
       "      <th>name_9</th>\n",
       "      <th>name_10</th>\n",
       "      <th>name_11</th>\n",
       "      <th>cab_type_0</th>\n",
       "      <th>cab_type_1</th>\n",
       "    </tr>\n",
       "  </thead>\n",
       "  <tbody>\n",
       "    <tr>\n",
       "      <th>0</th>\n",
       "      <td>1.609438</td>\n",
       "      <td>-0.820981</td>\n",
       "      <td>1.0</td>\n",
       "      <td>0.0</td>\n",
       "      <td>0.0</td>\n",
       "      <td>0.0</td>\n",
       "      <td>0.0</td>\n",
       "      <td>0.0</td>\n",
       "      <td>0.0</td>\n",
       "      <td>0.0</td>\n",
       "      <td>1.0</td>\n",
       "      <td>0.0</td>\n",
       "      <td>0.0</td>\n",
       "      <td>0.0</td>\n",
       "      <td>0.0</td>\n",
       "      <td>1.0</td>\n",
       "      <td>0.0</td>\n",
       "    </tr>\n",
       "    <tr>\n",
       "      <th>1</th>\n",
       "      <td>2.397895</td>\n",
       "      <td>-0.820981</td>\n",
       "      <td>1.0</td>\n",
       "      <td>0.0</td>\n",
       "      <td>0.0</td>\n",
       "      <td>1.0</td>\n",
       "      <td>0.0</td>\n",
       "      <td>0.0</td>\n",
       "      <td>0.0</td>\n",
       "      <td>0.0</td>\n",
       "      <td>0.0</td>\n",
       "      <td>0.0</td>\n",
       "      <td>0.0</td>\n",
       "      <td>0.0</td>\n",
       "      <td>0.0</td>\n",
       "      <td>1.0</td>\n",
       "      <td>0.0</td>\n",
       "    </tr>\n",
       "    <tr>\n",
       "      <th>2</th>\n",
       "      <td>1.945910</td>\n",
       "      <td>-0.820981</td>\n",
       "      <td>1.0</td>\n",
       "      <td>0.0</td>\n",
       "      <td>0.0</td>\n",
       "      <td>0.0</td>\n",
       "      <td>0.0</td>\n",
       "      <td>0.0</td>\n",
       "      <td>1.0</td>\n",
       "      <td>0.0</td>\n",
       "      <td>0.0</td>\n",
       "      <td>0.0</td>\n",
       "      <td>0.0</td>\n",
       "      <td>0.0</td>\n",
       "      <td>0.0</td>\n",
       "      <td>1.0</td>\n",
       "      <td>0.0</td>\n",
       "    </tr>\n",
       "    <tr>\n",
       "      <th>3</th>\n",
       "      <td>3.258097</td>\n",
       "      <td>-0.820981</td>\n",
       "      <td>1.0</td>\n",
       "      <td>0.0</td>\n",
       "      <td>0.0</td>\n",
       "      <td>0.0</td>\n",
       "      <td>0.0</td>\n",
       "      <td>1.0</td>\n",
       "      <td>0.0</td>\n",
       "      <td>0.0</td>\n",
       "      <td>0.0</td>\n",
       "      <td>0.0</td>\n",
       "      <td>0.0</td>\n",
       "      <td>0.0</td>\n",
       "      <td>0.0</td>\n",
       "      <td>1.0</td>\n",
       "      <td>0.0</td>\n",
       "    </tr>\n",
       "    <tr>\n",
       "      <th>4</th>\n",
       "      <td>2.197225</td>\n",
       "      <td>-0.820981</td>\n",
       "      <td>1.0</td>\n",
       "      <td>0.0</td>\n",
       "      <td>0.0</td>\n",
       "      <td>0.0</td>\n",
       "      <td>0.0</td>\n",
       "      <td>0.0</td>\n",
       "      <td>0.0</td>\n",
       "      <td>1.0</td>\n",
       "      <td>0.0</td>\n",
       "      <td>0.0</td>\n",
       "      <td>0.0</td>\n",
       "      <td>0.0</td>\n",
       "      <td>0.0</td>\n",
       "      <td>1.0</td>\n",
       "      <td>0.0</td>\n",
       "    </tr>\n",
       "    <tr>\n",
       "      <th>...</th>\n",
       "      <td>...</td>\n",
       "      <td>...</td>\n",
       "      <td>...</td>\n",
       "      <td>...</td>\n",
       "      <td>...</td>\n",
       "      <td>...</td>\n",
       "      <td>...</td>\n",
       "      <td>...</td>\n",
       "      <td>...</td>\n",
       "      <td>...</td>\n",
       "      <td>...</td>\n",
       "      <td>...</td>\n",
       "      <td>...</td>\n",
       "      <td>...</td>\n",
       "      <td>...</td>\n",
       "      <td>...</td>\n",
       "      <td>...</td>\n",
       "    </tr>\n",
       "    <tr>\n",
       "      <th>693065</th>\n",
       "      <td>2.251292</td>\n",
       "      <td>0.000000</td>\n",
       "      <td>1.0</td>\n",
       "      <td>0.0</td>\n",
       "      <td>0.0</td>\n",
       "      <td>0.0</td>\n",
       "      <td>0.0</td>\n",
       "      <td>0.0</td>\n",
       "      <td>0.0</td>\n",
       "      <td>0.0</td>\n",
       "      <td>0.0</td>\n",
       "      <td>0.0</td>\n",
       "      <td>0.0</td>\n",
       "      <td>0.0</td>\n",
       "      <td>1.0</td>\n",
       "      <td>0.0</td>\n",
       "      <td>1.0</td>\n",
       "    </tr>\n",
       "    <tr>\n",
       "      <th>693066</th>\n",
       "      <td>2.564949</td>\n",
       "      <td>0.000000</td>\n",
       "      <td>1.0</td>\n",
       "      <td>0.0</td>\n",
       "      <td>0.0</td>\n",
       "      <td>0.0</td>\n",
       "      <td>0.0</td>\n",
       "      <td>0.0</td>\n",
       "      <td>0.0</td>\n",
       "      <td>0.0</td>\n",
       "      <td>0.0</td>\n",
       "      <td>0.0</td>\n",
       "      <td>0.0</td>\n",
       "      <td>1.0</td>\n",
       "      <td>0.0</td>\n",
       "      <td>0.0</td>\n",
       "      <td>1.0</td>\n",
       "    </tr>\n",
       "    <tr>\n",
       "      <th>693067</th>\n",
       "      <td>2.251292</td>\n",
       "      <td>0.000000</td>\n",
       "      <td>1.0</td>\n",
       "      <td>0.0</td>\n",
       "      <td>0.0</td>\n",
       "      <td>0.0</td>\n",
       "      <td>0.0</td>\n",
       "      <td>0.0</td>\n",
       "      <td>0.0</td>\n",
       "      <td>0.0</td>\n",
       "      <td>0.0</td>\n",
       "      <td>0.0</td>\n",
       "      <td>1.0</td>\n",
       "      <td>0.0</td>\n",
       "      <td>0.0</td>\n",
       "      <td>0.0</td>\n",
       "      <td>1.0</td>\n",
       "    </tr>\n",
       "    <tr>\n",
       "      <th>693069</th>\n",
       "      <td>3.295837</td>\n",
       "      <td>0.000000</td>\n",
       "      <td>1.0</td>\n",
       "      <td>0.0</td>\n",
       "      <td>1.0</td>\n",
       "      <td>0.0</td>\n",
       "      <td>0.0</td>\n",
       "      <td>0.0</td>\n",
       "      <td>0.0</td>\n",
       "      <td>0.0</td>\n",
       "      <td>0.0</td>\n",
       "      <td>0.0</td>\n",
       "      <td>0.0</td>\n",
       "      <td>0.0</td>\n",
       "      <td>0.0</td>\n",
       "      <td>0.0</td>\n",
       "      <td>1.0</td>\n",
       "    </tr>\n",
       "    <tr>\n",
       "      <th>693070</th>\n",
       "      <td>2.302585</td>\n",
       "      <td>0.000000</td>\n",
       "      <td>1.0</td>\n",
       "      <td>0.0</td>\n",
       "      <td>0.0</td>\n",
       "      <td>0.0</td>\n",
       "      <td>0.0</td>\n",
       "      <td>0.0</td>\n",
       "      <td>0.0</td>\n",
       "      <td>0.0</td>\n",
       "      <td>0.0</td>\n",
       "      <td>1.0</td>\n",
       "      <td>0.0</td>\n",
       "      <td>0.0</td>\n",
       "      <td>0.0</td>\n",
       "      <td>0.0</td>\n",
       "      <td>1.0</td>\n",
       "    </tr>\n",
       "  </tbody>\n",
       "</table>\n",
       "<p>637976 rows × 17 columns</p>\n",
       "</div>"
      ],
      "text/plain": [
       "           price  distance  surge_multiplier  name_0  name_1  name_2  name_3  \\\n",
       "0       1.609438 -0.820981               1.0     0.0     0.0     0.0     0.0   \n",
       "1       2.397895 -0.820981               1.0     0.0     0.0     1.0     0.0   \n",
       "2       1.945910 -0.820981               1.0     0.0     0.0     0.0     0.0   \n",
       "3       3.258097 -0.820981               1.0     0.0     0.0     0.0     0.0   \n",
       "4       2.197225 -0.820981               1.0     0.0     0.0     0.0     0.0   \n",
       "...          ...       ...               ...     ...     ...     ...     ...   \n",
       "693065  2.251292  0.000000               1.0     0.0     0.0     0.0     0.0   \n",
       "693066  2.564949  0.000000               1.0     0.0     0.0     0.0     0.0   \n",
       "693067  2.251292  0.000000               1.0     0.0     0.0     0.0     0.0   \n",
       "693069  3.295837  0.000000               1.0     0.0     1.0     0.0     0.0   \n",
       "693070  2.302585  0.000000               1.0     0.0     0.0     0.0     0.0   \n",
       "\n",
       "        name_4  name_5  name_6  name_7  name_8  name_9  name_10  name_11  \\\n",
       "0          0.0     0.0     0.0     1.0     0.0     0.0      0.0      0.0   \n",
       "1          0.0     0.0     0.0     0.0     0.0     0.0      0.0      0.0   \n",
       "2          0.0     1.0     0.0     0.0     0.0     0.0      0.0      0.0   \n",
       "3          1.0     0.0     0.0     0.0     0.0     0.0      0.0      0.0   \n",
       "4          0.0     0.0     1.0     0.0     0.0     0.0      0.0      0.0   \n",
       "...        ...     ...     ...     ...     ...     ...      ...      ...   \n",
       "693065     0.0     0.0     0.0     0.0     0.0     0.0      0.0      1.0   \n",
       "693066     0.0     0.0     0.0     0.0     0.0     0.0      1.0      0.0   \n",
       "693067     0.0     0.0     0.0     0.0     0.0     1.0      0.0      0.0   \n",
       "693069     0.0     0.0     0.0     0.0     0.0     0.0      0.0      0.0   \n",
       "693070     0.0     0.0     0.0     0.0     1.0     0.0      0.0      0.0   \n",
       "\n",
       "        cab_type_0  cab_type_1  \n",
       "0              1.0         0.0  \n",
       "1              1.0         0.0  \n",
       "2              1.0         0.0  \n",
       "3              1.0         0.0  \n",
       "4              1.0         0.0  \n",
       "...            ...         ...  \n",
       "693065         0.0         1.0  \n",
       "693066         0.0         1.0  \n",
       "693067         0.0         1.0  \n",
       "693069         0.0         1.0  \n",
       "693070         0.0         1.0  \n",
       "\n",
       "[637976 rows x 17 columns]"
      ]
     },
     "metadata": {},
     "execution_count": 170
    }
   ],
   "metadata": {}
  },
  {
   "cell_type": "markdown",
   "source": [
    "### Split Data"
   ],
   "metadata": {}
  },
  {
   "cell_type": "code",
   "execution_count": 171,
   "source": [
    "x = data3.drop(['price'], axis = 1) \r\n",
    "y = data3.loc[:,'price']\r\n",
    "\r\n",
    "x_train, x_test, y_train, y_test = train_test_split(x, y, test_size=0.15, random_state=33, shuffle =True)# Membagi data menjadi dua"
   ],
   "outputs": [],
   "metadata": {}
  },
  {
   "cell_type": "markdown",
   "source": [
    "Dalam hal ini dilakukan pemisahan data dengan ukuran data testing adalah 30% dan ukuran data training adalah 70%  yang diambil secara acak dengan nomor generator 1. Nomor ini menandakan nomor pengacakan agar jika di run kembali, pengacakan data akan tetap sama. Data training (X_train, Y_train) berguna untuk membangun model yang hasilnya akan digunakan untuk memprediksi X_test, kemudian hasil prediksinya dievaluasi dengan mengacu pada Y_test"
   ],
   "metadata": {}
  },
  {
   "cell_type": "code",
   "execution_count": 172,
   "source": [
    "x"
   ],
   "outputs": [
    {
     "output_type": "execute_result",
     "data": {
      "text/html": [
       "<div>\n",
       "<style scoped>\n",
       "    .dataframe tbody tr th:only-of-type {\n",
       "        vertical-align: middle;\n",
       "    }\n",
       "\n",
       "    .dataframe tbody tr th {\n",
       "        vertical-align: top;\n",
       "    }\n",
       "\n",
       "    .dataframe thead th {\n",
       "        text-align: right;\n",
       "    }\n",
       "</style>\n",
       "<table border=\"1\" class=\"dataframe\">\n",
       "  <thead>\n",
       "    <tr style=\"text-align: right;\">\n",
       "      <th></th>\n",
       "      <th>distance</th>\n",
       "      <th>surge_multiplier</th>\n",
       "      <th>name_0</th>\n",
       "      <th>name_1</th>\n",
       "      <th>name_2</th>\n",
       "      <th>name_3</th>\n",
       "      <th>name_4</th>\n",
       "      <th>name_5</th>\n",
       "      <th>name_6</th>\n",
       "      <th>name_7</th>\n",
       "      <th>name_8</th>\n",
       "      <th>name_9</th>\n",
       "      <th>name_10</th>\n",
       "      <th>name_11</th>\n",
       "      <th>cab_type_0</th>\n",
       "      <th>cab_type_1</th>\n",
       "    </tr>\n",
       "  </thead>\n",
       "  <tbody>\n",
       "    <tr>\n",
       "      <th>0</th>\n",
       "      <td>-0.820981</td>\n",
       "      <td>1.0</td>\n",
       "      <td>0.0</td>\n",
       "      <td>0.0</td>\n",
       "      <td>0.0</td>\n",
       "      <td>0.0</td>\n",
       "      <td>0.0</td>\n",
       "      <td>0.0</td>\n",
       "      <td>0.0</td>\n",
       "      <td>1.0</td>\n",
       "      <td>0.0</td>\n",
       "      <td>0.0</td>\n",
       "      <td>0.0</td>\n",
       "      <td>0.0</td>\n",
       "      <td>1.0</td>\n",
       "      <td>0.0</td>\n",
       "    </tr>\n",
       "    <tr>\n",
       "      <th>1</th>\n",
       "      <td>-0.820981</td>\n",
       "      <td>1.0</td>\n",
       "      <td>0.0</td>\n",
       "      <td>0.0</td>\n",
       "      <td>1.0</td>\n",
       "      <td>0.0</td>\n",
       "      <td>0.0</td>\n",
       "      <td>0.0</td>\n",
       "      <td>0.0</td>\n",
       "      <td>0.0</td>\n",
       "      <td>0.0</td>\n",
       "      <td>0.0</td>\n",
       "      <td>0.0</td>\n",
       "      <td>0.0</td>\n",
       "      <td>1.0</td>\n",
       "      <td>0.0</td>\n",
       "    </tr>\n",
       "    <tr>\n",
       "      <th>2</th>\n",
       "      <td>-0.820981</td>\n",
       "      <td>1.0</td>\n",
       "      <td>0.0</td>\n",
       "      <td>0.0</td>\n",
       "      <td>0.0</td>\n",
       "      <td>0.0</td>\n",
       "      <td>0.0</td>\n",
       "      <td>1.0</td>\n",
       "      <td>0.0</td>\n",
       "      <td>0.0</td>\n",
       "      <td>0.0</td>\n",
       "      <td>0.0</td>\n",
       "      <td>0.0</td>\n",
       "      <td>0.0</td>\n",
       "      <td>1.0</td>\n",
       "      <td>0.0</td>\n",
       "    </tr>\n",
       "    <tr>\n",
       "      <th>3</th>\n",
       "      <td>-0.820981</td>\n",
       "      <td>1.0</td>\n",
       "      <td>0.0</td>\n",
       "      <td>0.0</td>\n",
       "      <td>0.0</td>\n",
       "      <td>0.0</td>\n",
       "      <td>1.0</td>\n",
       "      <td>0.0</td>\n",
       "      <td>0.0</td>\n",
       "      <td>0.0</td>\n",
       "      <td>0.0</td>\n",
       "      <td>0.0</td>\n",
       "      <td>0.0</td>\n",
       "      <td>0.0</td>\n",
       "      <td>1.0</td>\n",
       "      <td>0.0</td>\n",
       "    </tr>\n",
       "    <tr>\n",
       "      <th>4</th>\n",
       "      <td>-0.820981</td>\n",
       "      <td>1.0</td>\n",
       "      <td>0.0</td>\n",
       "      <td>0.0</td>\n",
       "      <td>0.0</td>\n",
       "      <td>0.0</td>\n",
       "      <td>0.0</td>\n",
       "      <td>0.0</td>\n",
       "      <td>1.0</td>\n",
       "      <td>0.0</td>\n",
       "      <td>0.0</td>\n",
       "      <td>0.0</td>\n",
       "      <td>0.0</td>\n",
       "      <td>0.0</td>\n",
       "      <td>1.0</td>\n",
       "      <td>0.0</td>\n",
       "    </tr>\n",
       "    <tr>\n",
       "      <th>...</th>\n",
       "      <td>...</td>\n",
       "      <td>...</td>\n",
       "      <td>...</td>\n",
       "      <td>...</td>\n",
       "      <td>...</td>\n",
       "      <td>...</td>\n",
       "      <td>...</td>\n",
       "      <td>...</td>\n",
       "      <td>...</td>\n",
       "      <td>...</td>\n",
       "      <td>...</td>\n",
       "      <td>...</td>\n",
       "      <td>...</td>\n",
       "      <td>...</td>\n",
       "      <td>...</td>\n",
       "      <td>...</td>\n",
       "    </tr>\n",
       "    <tr>\n",
       "      <th>693065</th>\n",
       "      <td>0.000000</td>\n",
       "      <td>1.0</td>\n",
       "      <td>0.0</td>\n",
       "      <td>0.0</td>\n",
       "      <td>0.0</td>\n",
       "      <td>0.0</td>\n",
       "      <td>0.0</td>\n",
       "      <td>0.0</td>\n",
       "      <td>0.0</td>\n",
       "      <td>0.0</td>\n",
       "      <td>0.0</td>\n",
       "      <td>0.0</td>\n",
       "      <td>0.0</td>\n",
       "      <td>1.0</td>\n",
       "      <td>0.0</td>\n",
       "      <td>1.0</td>\n",
       "    </tr>\n",
       "    <tr>\n",
       "      <th>693066</th>\n",
       "      <td>0.000000</td>\n",
       "      <td>1.0</td>\n",
       "      <td>0.0</td>\n",
       "      <td>0.0</td>\n",
       "      <td>0.0</td>\n",
       "      <td>0.0</td>\n",
       "      <td>0.0</td>\n",
       "      <td>0.0</td>\n",
       "      <td>0.0</td>\n",
       "      <td>0.0</td>\n",
       "      <td>0.0</td>\n",
       "      <td>0.0</td>\n",
       "      <td>1.0</td>\n",
       "      <td>0.0</td>\n",
       "      <td>0.0</td>\n",
       "      <td>1.0</td>\n",
       "    </tr>\n",
       "    <tr>\n",
       "      <th>693067</th>\n",
       "      <td>0.000000</td>\n",
       "      <td>1.0</td>\n",
       "      <td>0.0</td>\n",
       "      <td>0.0</td>\n",
       "      <td>0.0</td>\n",
       "      <td>0.0</td>\n",
       "      <td>0.0</td>\n",
       "      <td>0.0</td>\n",
       "      <td>0.0</td>\n",
       "      <td>0.0</td>\n",
       "      <td>0.0</td>\n",
       "      <td>1.0</td>\n",
       "      <td>0.0</td>\n",
       "      <td>0.0</td>\n",
       "      <td>0.0</td>\n",
       "      <td>1.0</td>\n",
       "    </tr>\n",
       "    <tr>\n",
       "      <th>693069</th>\n",
       "      <td>0.000000</td>\n",
       "      <td>1.0</td>\n",
       "      <td>0.0</td>\n",
       "      <td>1.0</td>\n",
       "      <td>0.0</td>\n",
       "      <td>0.0</td>\n",
       "      <td>0.0</td>\n",
       "      <td>0.0</td>\n",
       "      <td>0.0</td>\n",
       "      <td>0.0</td>\n",
       "      <td>0.0</td>\n",
       "      <td>0.0</td>\n",
       "      <td>0.0</td>\n",
       "      <td>0.0</td>\n",
       "      <td>0.0</td>\n",
       "      <td>1.0</td>\n",
       "    </tr>\n",
       "    <tr>\n",
       "      <th>693070</th>\n",
       "      <td>0.000000</td>\n",
       "      <td>1.0</td>\n",
       "      <td>0.0</td>\n",
       "      <td>0.0</td>\n",
       "      <td>0.0</td>\n",
       "      <td>0.0</td>\n",
       "      <td>0.0</td>\n",
       "      <td>0.0</td>\n",
       "      <td>0.0</td>\n",
       "      <td>0.0</td>\n",
       "      <td>1.0</td>\n",
       "      <td>0.0</td>\n",
       "      <td>0.0</td>\n",
       "      <td>0.0</td>\n",
       "      <td>0.0</td>\n",
       "      <td>1.0</td>\n",
       "    </tr>\n",
       "  </tbody>\n",
       "</table>\n",
       "<p>637976 rows × 16 columns</p>\n",
       "</div>"
      ],
      "text/plain": [
       "        distance  surge_multiplier  name_0  name_1  name_2  name_3  name_4  \\\n",
       "0      -0.820981               1.0     0.0     0.0     0.0     0.0     0.0   \n",
       "1      -0.820981               1.0     0.0     0.0     1.0     0.0     0.0   \n",
       "2      -0.820981               1.0     0.0     0.0     0.0     0.0     0.0   \n",
       "3      -0.820981               1.0     0.0     0.0     0.0     0.0     1.0   \n",
       "4      -0.820981               1.0     0.0     0.0     0.0     0.0     0.0   \n",
       "...          ...               ...     ...     ...     ...     ...     ...   \n",
       "693065  0.000000               1.0     0.0     0.0     0.0     0.0     0.0   \n",
       "693066  0.000000               1.0     0.0     0.0     0.0     0.0     0.0   \n",
       "693067  0.000000               1.0     0.0     0.0     0.0     0.0     0.0   \n",
       "693069  0.000000               1.0     0.0     1.0     0.0     0.0     0.0   \n",
       "693070  0.000000               1.0     0.0     0.0     0.0     0.0     0.0   \n",
       "\n",
       "        name_5  name_6  name_7  name_8  name_9  name_10  name_11  cab_type_0  \\\n",
       "0          0.0     0.0     1.0     0.0     0.0      0.0      0.0         1.0   \n",
       "1          0.0     0.0     0.0     0.0     0.0      0.0      0.0         1.0   \n",
       "2          1.0     0.0     0.0     0.0     0.0      0.0      0.0         1.0   \n",
       "3          0.0     0.0     0.0     0.0     0.0      0.0      0.0         1.0   \n",
       "4          0.0     1.0     0.0     0.0     0.0      0.0      0.0         1.0   \n",
       "...        ...     ...     ...     ...     ...      ...      ...         ...   \n",
       "693065     0.0     0.0     0.0     0.0     0.0      0.0      1.0         0.0   \n",
       "693066     0.0     0.0     0.0     0.0     0.0      1.0      0.0         0.0   \n",
       "693067     0.0     0.0     0.0     0.0     1.0      0.0      0.0         0.0   \n",
       "693069     0.0     0.0     0.0     0.0     0.0      0.0      0.0         0.0   \n",
       "693070     0.0     0.0     0.0     1.0     0.0      0.0      0.0         0.0   \n",
       "\n",
       "        cab_type_1  \n",
       "0              0.0  \n",
       "1              0.0  \n",
       "2              0.0  \n",
       "3              0.0  \n",
       "4              0.0  \n",
       "...            ...  \n",
       "693065         1.0  \n",
       "693066         1.0  \n",
       "693067         1.0  \n",
       "693069         1.0  \n",
       "693070         1.0  \n",
       "\n",
       "[637976 rows x 16 columns]"
      ]
     },
     "metadata": {},
     "execution_count": 172
    }
   ],
   "metadata": {}
  },
  {
   "cell_type": "code",
   "execution_count": 173,
   "source": [
    "y"
   ],
   "outputs": [
    {
     "output_type": "execute_result",
     "data": {
      "text/plain": [
       "0         1.609438\n",
       "1         2.397895\n",
       "2         1.945910\n",
       "3         3.258097\n",
       "4         2.197225\n",
       "            ...   \n",
       "693065    2.251292\n",
       "693066    2.564949\n",
       "693067    2.251292\n",
       "693069    3.295837\n",
       "693070    2.302585\n",
       "Name: price, Length: 637976, dtype: float64"
      ]
     },
     "metadata": {},
     "execution_count": 173
    }
   ],
   "metadata": {}
  },
  {
   "cell_type": "markdown",
   "source": [
    "## Model Definition"
   ],
   "metadata": {}
  },
  {
   "cell_type": "markdown",
   "source": [
    "## Model Training"
   ],
   "metadata": {}
  },
  {
   "cell_type": "markdown",
   "source": [
    "### Create a model and fit it"
   ],
   "metadata": {}
  },
  {
   "cell_type": "code",
   "execution_count": 174,
   "source": [
    "linr_model = LinearRegression()\r\n",
    "linr_model.fit(x_train, y_train)"
   ],
   "outputs": [
    {
     "output_type": "execute_result",
     "data": {
      "text/plain": [
       "LinearRegression()"
      ]
     },
     "metadata": {},
     "execution_count": 174
    }
   ],
   "metadata": {}
  },
  {
   "cell_type": "markdown",
   "source": [
    "### Get results"
   ],
   "metadata": {}
  },
  {
   "cell_type": "code",
   "execution_count": 175,
   "source": [
    "r_sq = linr_model.score(x_test, y_test)\r\n",
    "\r\n",
    "print('coefficient of determination : ', r_sq)\r\n",
    "print('intercept : ', linr_model.intercept_)\r\n",
    "print('slope : ', linr_model.coef_)"
   ],
   "outputs": [
    {
     "output_type": "stream",
     "name": "stdout",
     "text": [
      "coefficient of determination :  0.9291699218152693\n",
      "intercept :  6432252318.543713\n",
      "slope :  [ 3.13616294e-01  6.94869769e-01 -9.19669612e+09 -9.19669612e+09\n",
      " -3.65991052e+09 -3.65991052e+09 -3.65991052e+09 -3.65991052e+09\n",
      " -3.65991052e+09 -3.65991052e+09 -9.19669612e+09 -9.19669612e+09\n",
      " -9.19669612e+09 -9.19669612e+09 -2.77234179e+09  2.76444380e+09]\n"
     ]
    }
   ],
   "metadata": {}
  },
  {
   "cell_type": "markdown",
   "source": [
    "## Model Evaluation & Inference"
   ],
   "metadata": {}
  },
  {
   "cell_type": "code",
   "execution_count": 68,
   "source": [
    "y_pred = linr_model.predict(x_test)\r\n",
    "print('predicted response: ', y_pred, sep='\\n')"
   ],
   "outputs": [
    {
     "output_type": "stream",
     "name": "stdout",
     "text": [
      "predicted response: \n",
      "[2.18877649 3.70327344 2.38798276 ... 2.19444382 2.45548581 2.24223073]\n"
     ]
    }
   ],
   "metadata": {}
  },
  {
   "cell_type": "markdown",
   "source": [
    "## Kesimpulan"
   ],
   "metadata": {}
  }
 ],
 "metadata": {
  "kernelspec": {
   "name": "python3",
   "display_name": "Python 3.9.13 64-bit ('base': conda)"
  },
  "language_info": {
   "codemirror_mode": {
    "name": "ipython",
    "version": 3
   },
   "file_extension": ".py",
   "mimetype": "text/x-python",
   "name": "python",
   "nbconvert_exporter": "python",
   "pygments_lexer": "ipython3",
   "version": "3.9.13"
  },
  "nbTranslate": {
   "displayLangs": [
    "*"
   ],
   "hotkey": "alt-t",
   "langInMainMenu": true,
   "sourceLang": "en",
   "targetLang": "fr",
   "useGoogleTranslate": true
  },
  "vscode": {
   "interpreter": {
    "hash": "f39cb926be16e4660558e3b82e8fd31d5eb0ff2b0fe3d6add6b101a7213a33a5"
   }
  },
  "interpreter": {
   "hash": "fe6d48a06cf1965613c5c4b5d21b1182ca2e59212f354219b1b23c436410da45"
  }
 },
 "nbformat": 4,
 "nbformat_minor": 2
}